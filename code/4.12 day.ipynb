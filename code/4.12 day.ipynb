{
 "cells": [
  {
   "cell_type": "code",
   "execution_count": 2,
   "id": "bad93f0f",
   "metadata": {},
   "outputs": [
    {
     "name": "stdout",
     "output_type": "stream",
     "text": [
      "False\n"
     ]
    }
   ],
   "source": [
    "korean = 92\n",
    "english = 47\n",
    "mathematics = 86\n",
    "science = 81\n",
    "print(korean >= 80 and english >= 80 and mathematics >= 80 and science >= 80)"
   ]
  },
  {
   "cell_type": "code",
   "execution_count": 3,
   "id": "22fcccf4",
   "metadata": {},
   "outputs": [
    {
     "name": "stdout",
     "output_type": "stream",
     "text": [
      "True\n"
     ]
    }
   ],
   "source": [
    "korean = 92\n",
    "english = 90\n",
    "mathematics = 86\n",
    "science = 81\n",
    "print(korean >= 80 and english >= 80 and mathematics >= 80 and science >= 80)"
   ]
  },
  {
   "cell_type": "code",
   "execution_count": 13,
   "id": "7a3b176f",
   "metadata": {},
   "outputs": [
    {
     "name": "stdout",
     "output_type": "stream",
     "text": [
      "숫자 두개를 입력하세요20 10\n",
      "20 + 10 = 30\n",
      "20 - 10 = 10\n",
      "20 * 10 = 200\n",
      "20 / 10 = 2\n"
     ]
    }
   ],
   "source": [
    "# 숫자 두개를입력받아서 사칙연산을 출력하는 프로그램을 만드시오.\n",
    "\n",
    "# a = int(input('첫번째 숫자를 입력하세요')\n",
    "# b = int(input('두번째 숫자를 입력하세요')\n",
    "a,b = map(int,input('숫자 두개를 입력하세요').split())\n",
    "\n",
    "print(a,'+',b,'=', a+b)\n",
    "print(a,'-',b,'=', a-b)\n",
    "print('%d * %d = %d'%(a,b,a*b))\n",
    "print('%d / %d = %d'%(a,b,a/b))"
   ]
  },
  {
   "cell_type": "code",
   "execution_count": 17,
   "id": "546be029",
   "metadata": {},
   "outputs": [
    {
     "name": "stdout",
     "output_type": "stream",
     "text": [
      "교환할 금액을 입력하세요 :8975\n",
      "500원짜리-> 17\n",
      "100원짜리-> 4\n",
      "50원짜리 1개\n",
      "10원짜리 2개\n",
      "바꾸지 못한 잔돈 5 원\n"
     ]
    }
   ],
   "source": [
    "# 동전 교환기 \n",
    "\n",
    "money, c500, c100, c50, c10 = 0,0,0,0,0\n",
    "\n",
    "money = int(input('교환할 금액을 입력하세요 :'))\n",
    "\n",
    "c500 = money // 500 # 몫만 구한다.\n",
    "money = money % 500 #나머지만 구한다.\n",
    "\n",
    "c100 = money // 100\n",
    "money = money % 100\n",
    "\n",
    "c50 = money // 50\n",
    "money %= 50\n",
    "\n",
    "c10 = money // 10\n",
    "money %= 10\n",
    "\n",
    "print('500원짜리->',c500)\n",
    "print('100원짜리->',c100)\n",
    "print('50원짜리 %d개'%c50)\n",
    "print('10원짜리 %d개'%c10)\n",
    "print('바꾸지 못한 잔돈 %d 원'%money)"
   ]
  },
  {
   "cell_type": "code",
   "execution_count": 18,
   "id": "c70c48dc",
   "metadata": {},
   "outputs": [
    {
     "name": "stdout",
     "output_type": "stream",
     "text": [
      "[1, 2, 3]\n"
     ]
    },
    {
     "data": {
      "text/plain": [
       "list"
      ]
     },
     "execution_count": 18,
     "metadata": {},
     "output_type": "execute_result"
    }
   ],
   "source": [
    "lst_a = [1,2,3]\n",
    "print(lst_a)\n",
    "type(lst_a)"
   ]
  },
  {
   "cell_type": "code",
   "execution_count": 19,
   "id": "28d9bdc5",
   "metadata": {},
   "outputs": [
    {
     "name": "stdout",
     "output_type": "stream",
     "text": [
      "['홍길동', 19, 181.5, True]\n"
     ]
    }
   ],
   "source": [
    "person = ['홍길동',19,181.5,True]\n",
    "print(person)"
   ]
  },
  {
   "cell_type": "code",
   "execution_count": 20,
   "id": "9d931f60",
   "metadata": {},
   "outputs": [],
   "source": [
    "lst_a = []\n",
    "lst_b = list()"
   ]
  },
  {
   "cell_type": "code",
   "execution_count": 23,
   "id": "cfe7c62b",
   "metadata": {},
   "outputs": [
    {
     "name": "stdout",
     "output_type": "stream",
     "text": [
      "[0, 1, 2, 3, 4, 5, 6, 7, 8, 9]\n"
     ]
    }
   ],
   "source": [
    "lst_a = list(range(10))\n",
    "print(lst_a)"
   ]
  },
  {
   "cell_type": "code",
   "execution_count": null,
   "id": "eccb01ce",
   "metadata": {},
   "outputs": [],
   "source": []
  },
  {
   "cell_type": "code",
   "execution_count": 28,
   "id": "9d3097bf",
   "metadata": {},
   "outputs": [
    {
     "name": "stdout",
     "output_type": "stream",
     "text": [
      "['red', 'blue', 'green']\n",
      "red\n",
      "green\n",
      "3\n"
     ]
    }
   ],
   "source": [
    "colors = ['red','blue','green']\n",
    "print(colors)\n",
    "print(colors[0])\n",
    "print(colors[2])\n",
    "print(len(colors))"
   ]
  },
  {
   "cell_type": "code",
   "execution_count": 31,
   "id": "ee66c4aa",
   "metadata": {},
   "outputs": [
    {
     "name": "stdout",
     "output_type": "stream",
     "text": [
      "[3, 4]\n",
      "[2, 3, 4, 5]\n",
      "[0, 1, 2, 3, 4, 5, 6, 7, 8, 9]\n"
     ]
    }
   ],
   "source": [
    "lst_a = list(range(10))\n",
    "print(lst_a[3:5])\n",
    "print(lst_a[2:6])\n",
    "print(lst_a)"
   ]
  },
  {
   "cell_type": "code",
   "execution_count": 51,
   "id": "1dbf5a41",
   "metadata": {},
   "outputs": [
    {
     "name": "stdout",
     "output_type": "stream",
     "text": [
      "['서울', '부산', '인천', '대구', '대전']\n",
      "['광주', '울산', '수원']\n",
      "['서울', '부산', '인천']\n",
      "['대구', '대전']\n"
     ]
    }
   ],
   "source": [
    "#          0      1     2       3     4      5      6       7\n",
    "area = ['서울','부산','인천','대구','대전','광주','울산','수원']\n",
    "print(area[0:5])\n",
    "print(area[5:])\n",
    "print(area[:3])\n",
    "print(area[3:5])"
   ]
  },
  {
   "cell_type": "code",
   "execution_count": 52,
   "id": "12523cb1",
   "metadata": {},
   "outputs": [
    {
     "name": "stdout",
     "output_type": "stream",
     "text": [
      "['서울', '부산', '인천', '대구', '대전', '광주', '울산', '수원']\n",
      "['대전', '광주', '울산', '수원']\n"
     ]
    }
   ],
   "source": [
    "#         -1     -2      -3   -4      -5     -6     -7     -8\n",
    "area = ['서울','부산','인천','대구','대전','광주','울산','수원']\n",
    "print(area[-8:])\n",
    "print(area[-4:])\n",
    "# 음수는 역순값이라도 순서는 바뀌지 않는다."
   ]
  },
  {
   "cell_type": "code",
   "execution_count": 46,
   "id": "f1f6f09b",
   "metadata": {},
   "outputs": [
    {
     "name": "stdout",
     "output_type": "stream",
     "text": [
      "['서울', '인천', '대전', '울산']\n",
      "['수원', '울산', '광주', '대전', '대구', '인천', '부산', '서울']\n"
     ]
    }
   ],
   "source": [
    "area = ['서울','부산','인천','대구','대전','광주','울산','수원']\n",
    "print(area[::2])\n",
    "print(area[::-1])"
   ]
  },
  {
   "cell_type": "code",
   "execution_count": 53,
   "id": "b90d82cf",
   "metadata": {},
   "outputs": [
    {
     "name": "stdout",
     "output_type": "stream",
     "text": [
      "['red', 'blue', 'green', 'white']\n"
     ]
    }
   ],
   "source": [
    "color = ['red','blue','green']\n",
    "color.append('white')\n",
    "print(color)"
   ]
  },
  {
   "cell_type": "code",
   "execution_count": 59,
   "id": "ce45501a",
   "metadata": {},
   "outputs": [
    {
     "name": "stdout",
     "output_type": "stream",
     "text": [
      "['orange', 'orange', 'blue', 'green', 'white']\n"
     ]
    }
   ],
   "source": [
    "color.insert(0,'orange')\n",
    "print(color)"
   ]
  },
  {
   "cell_type": "code",
   "execution_count": 60,
   "id": "7542084d",
   "metadata": {},
   "outputs": [
    {
     "name": "stdout",
     "output_type": "stream",
     "text": [
      "['orange', 'blue', 'green', 'white']\n"
     ]
    }
   ],
   "source": [
    "color.remove('orange')\n",
    "print(color)"
   ]
  },
  {
   "cell_type": "code",
   "execution_count": 63,
   "id": "58171a86",
   "metadata": {},
   "outputs": [
    {
     "name": "stdout",
     "output_type": "stream",
     "text": [
      "(1, 2, 3)\n"
     ]
    }
   ],
   "source": [
    "t1 = (1,2,3) #튜플은 값이 변하지 않음\n",
    "print(t1)"
   ]
  },
  {
   "cell_type": "code",
   "execution_count": 64,
   "id": "1b975619",
   "metadata": {},
   "outputs": [
    {
     "name": "stdout",
     "output_type": "stream",
     "text": [
      "2\n"
     ]
    }
   ],
   "source": [
    "print(t1[1])"
   ]
  },
  {
   "cell_type": "code",
   "execution_count": 67,
   "id": "4b53565f",
   "metadata": {},
   "outputs": [
    {
     "name": "stdout",
     "output_type": "stream",
     "text": [
      "(1, 2, 3, 4)\n"
     ]
    }
   ],
   "source": [
    "t1 = (1,2,3) #튜플생성\n",
    "lst = list(t1) #튜플을 리스트로 변환\n",
    "lst.append(4) #마지막에 4를 추가\n",
    "t1 = tuple(lst) #리스트를 튜플로 변환\n",
    "print(t1)"
   ]
  },
  {
   "cell_type": "code",
   "execution_count": 70,
   "id": "59f9f683",
   "metadata": {},
   "outputs": [
    {
     "name": "stdout",
     "output_type": "stream",
     "text": [
      "{'name': '홍길동', 'phone': '010-1234-5678', 'addr': '청주시 상당구'}\n",
      "홍길동\n",
      "010-1234-5678\n",
      "청주시 상당구\n"
     ]
    }
   ],
   "source": [
    "dic1 = {'name':'홍길동','phone':'010-1234-5678','addr':'청주시 상당구'}\n",
    "print(dic1)\n",
    "print(dic1['name'])\n",
    "print(dic1['phone'])\n",
    "print(dic1['addr'])"
   ]
  },
  {
   "cell_type": "code",
   "execution_count": 71,
   "id": "1fe4918a",
   "metadata": {},
   "outputs": [
    {
     "name": "stdout",
     "output_type": "stream",
     "text": [
      "name 홍길동\n",
      "phone 010-1234-5678\n",
      "addr 청주시 상당구\n"
     ]
    }
   ],
   "source": [
    "dic1 = {'name':'홍길동','phone':'010-1234-5678','addr':'청주시 상당구'}\n",
    "for key, value in dic1.items():\n",
    "    print(key,value)"
   ]
  },
  {
   "cell_type": "code",
   "execution_count": 74,
   "id": "36375097",
   "metadata": {},
   "outputs": [
    {
     "name": "stdout",
     "output_type": "stream",
     "text": [
      "{'h', 'e', 'l', 'o'}\n",
      "{1, 2, 3, 4}\n"
     ]
    }
   ],
   "source": [
    "s1 = set('hello')\n",
    "print(s1)\n",
    "s2 = set([1,2,3,3,4])\n",
    "print(s2)"
   ]
  },
  {
   "cell_type": "code",
   "execution_count": 78,
   "id": "72f33d2d",
   "metadata": {},
   "outputs": [
    {
     "name": "stdout",
     "output_type": "stream",
     "text": [
      "{4, 5, 6}\n",
      "{1, 2, 3, 4, 5, 6, 7, 8, 9}\n",
      "{1, 2, 3}\n"
     ]
    }
   ],
   "source": [
    "s1 = set([1,2,3,4,5,6])\n",
    "s2 = set([4,5,6,7,8,9])\n",
    "\n",
    "print(s1 & s2)\n",
    "print(s1 | s2)\n",
    "print(s1 - s2)"
   ]
  },
  {
   "cell_type": "code",
   "execution_count": 80,
   "id": "501bdbc3",
   "metadata": {},
   "outputs": [
    {
     "name": "stdout",
     "output_type": "stream",
     "text": [
      "첫번째값을 입력하세요 :10\n",
      "두번째값을 입력하세요 :20\n",
      "세번째값을 입력하세요 :30\n",
      "네번째값을 입력하세요 :40\n",
      "합계는 =  100\n"
     ]
    }
   ],
   "source": [
    "a,b,c,d = 0,0,0,0\n",
    "plus = 0\n",
    "\n",
    "a = int(input('첫번째값을 입력하세요 :'))\n",
    "b = int(input('두번째값을 입력하세요 :'))\n",
    "c = int(input('세번째값을 입력하세요 :'))\n",
    "d = int(input('네번째값을 입력하세요 :'))\n",
    "\n",
    "plus = a + b + c + d\n",
    "\n",
    "print('합계는 = ',plus)"
   ]
  },
  {
   "cell_type": "code",
   "execution_count": 81,
   "id": "8f6732ca",
   "metadata": {},
   "outputs": [
    {
     "name": "stdout",
     "output_type": "stream",
     "text": [
      "첫번째값을 입력하세요 :10\n",
      "두번째값을 입력하세요 :20\n",
      "세번째값을 입력하세요 :30\n",
      "네번째값을 입력하세요 :40\n",
      "합계는 =  100\n"
     ]
    }
   ],
   "source": [
    "aa = [0,0,0,0]\n",
    "plus = 0\n",
    "\n",
    "aa[0] = int(input('첫번째값을 입력하세요 :'))\n",
    "aa[1] = int(input('두번째값을 입력하세요 :'))\n",
    "aa[2] = int(input('세번째값을 입력하세요 :'))\n",
    "aa[3] = int(input('네번째값을 입력하세요 :'))\n",
    "\n",
    "plus = aa[0] + aa[1] + aa[2] + aa[3]\n",
    "\n",
    "print('합계는 = ',plus)"
   ]
  },
  {
   "cell_type": "code",
   "execution_count": null,
   "id": "2ba27a62",
   "metadata": {},
   "outputs": [],
   "source": []
  }
 ],
 "metadata": {
  "kernelspec": {
   "display_name": "Python 3 (ipykernel)",
   "language": "python",
   "name": "python3"
  },
  "language_info": {
   "codemirror_mode": {
    "name": "ipython",
    "version": 3
   },
   "file_extension": ".py",
   "mimetype": "text/x-python",
   "name": "python",
   "nbconvert_exporter": "python",
   "pygments_lexer": "ipython3",
   "version": "3.10.4"
  }
 },
 "nbformat": 4,
 "nbformat_minor": 5
}
