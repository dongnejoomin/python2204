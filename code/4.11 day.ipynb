{
 "cells": [
  {
   "cell_type": "code",
   "execution_count": 13,
   "id": "cfbe4df7",
   "metadata": {},
   "outputs": [
    {
     "name": "stdout",
     "output_type": "stream",
     "text": [
      "10 20\n",
      "더하기는 = 30\n",
      "곱하기는 = 200\n"
     ]
    }
   ],
   "source": [
    "#주석문입니다.\n",
    "## 주석문입니다. ##\n",
    "\n",
    "x,y = map(int,input().split())\n",
    "\n",
    "print('더하기는 =',x+y)\n",
    "print('곱하기는 =',x*y)"
   ]
  },
  {
   "cell_type": "code",
   "execution_count": 37,
   "id": "03652516",
   "metadata": {},
   "outputs": [
    {
     "name": "stdout",
     "output_type": "stream",
     "text": [
      "10 20\n",
      "10 + 20 = 30\n",
      "10 * 20 = 200\n"
     ]
    }
   ],
   "source": [
    "x,y = map(int,input().split())\n",
    "\n",
    "print(x,'+',y,'=',x+y)\n",
    "print(x,'*',y,'=',x*y)"
   ]
  },
  {
   "cell_type": "code",
   "execution_count": 39,
   "id": "9c99bfe1",
   "metadata": {},
   "outputs": [
    {
     "name": "stdout",
     "output_type": "stream",
     "text": [
      "p y t h o n\n"
     ]
    }
   ],
   "source": [
    "print('p','y','t','h','o','n')"
   ]
  },
  {
   "cell_type": "code",
   "execution_count": 40,
   "id": "1717fe09",
   "metadata": {},
   "outputs": [
    {
     "name": "stdout",
     "output_type": "stream",
     "text": [
      "python\n"
     ]
    }
   ],
   "source": [
    "print('p','y','t','h','o','n',sep=\"\")"
   ]
  },
  {
   "cell_type": "code",
   "execution_count": 41,
   "id": "dbfffdee",
   "metadata": {},
   "outputs": [
    {
     "name": "stdout",
     "output_type": "stream",
     "text": [
      "2022-04-11\n"
     ]
    }
   ],
   "source": [
    "print('2022','04','11', sep='-')"
   ]
  },
  {
   "cell_type": "code",
   "execution_count": 42,
   "id": "7db76e7f",
   "metadata": {},
   "outputs": [
    {
     "name": "stdout",
     "output_type": "stream",
     "text": [
      "darklegend23@naver.com\n"
     ]
    }
   ],
   "source": [
    "print('darklegend23','naver.com',sep='@')"
   ]
  },
  {
   "cell_type": "code",
   "execution_count": 43,
   "id": "6c5255ff",
   "metadata": {},
   "outputs": [
    {
     "name": "stdout",
     "output_type": "stream",
     "text": [
      "메일 아이디를 입력하세요darklegend23\n",
      "darklegend23@naver.com\n"
     ]
    }
   ],
   "source": [
    "a = input('메일 아이디를 입력하세요')\n",
    "print(a,'naver.com',sep='@')"
   ]
  },
  {
   "cell_type": "code",
   "execution_count": 44,
   "id": "347a1641",
   "metadata": {},
   "outputs": [
    {
     "name": "stdout",
     "output_type": "stream",
     "text": [
      "1\n",
      "2\n",
      "3\n"
     ]
    }
   ],
   "source": [
    "print(1,2,3,sep='\\n')"
   ]
  },
  {
   "cell_type": "code",
   "execution_count": 47,
   "id": "a2b65c31",
   "metadata": {},
   "outputs": [
    {
     "name": "stdout",
     "output_type": "stream",
     "text": [
      "Welcom To\n",
      "Korea IT\n",
      "Academy\n",
      "====\n",
      "Welcom To Korea IT Academy\n"
     ]
    }
   ],
   "source": [
    "print('Welcom To')\n",
    "print('Korea IT')\n",
    "print('Academy')\n",
    "print('====')\n",
    "print('Welcom To', end=' ')\n",
    "print('Korea IT', end=' ')\n",
    "print('Academy')"
   ]
  },
  {
   "cell_type": "code",
   "execution_count": 48,
   "id": "20d27d7f",
   "metadata": {},
   "outputs": [
    {
     "name": "stdout",
     "output_type": "stream",
     "text": [
      "Hello Korea IT Academy\n"
     ]
    }
   ],
   "source": [
    "a = 'Hello'\n",
    "b = 'Korea IT'\n",
    "c = 'Academy'\n",
    "\n",
    "print(a,b,c)"
   ]
  },
  {
   "cell_type": "code",
   "execution_count": 49,
   "id": "da435c60",
   "metadata": {},
   "outputs": [
    {
     "name": "stdout",
     "output_type": "stream",
     "text": [
      "Hello,Korea IT,Academy\n"
     ]
    }
   ],
   "source": [
    "a = 'Hello'\n",
    "b = 'Korea IT'\n",
    "c = 'Academy'\n",
    "\n",
    "print('%s,%s,%s'%(a,b,c))"
   ]
  },
  {
   "cell_type": "code",
   "execution_count": 50,
   "id": "399e0344",
   "metadata": {},
   "outputs": [
    {
     "name": "stdout",
     "output_type": "stream",
     "text": [
      "0000000010  3.1400 Korea\n"
     ]
    }
   ],
   "source": [
    "print('%010d %7.4f %s'%(10,3.14,'Korea'))"
   ]
  },
  {
   "cell_type": "code",
   "execution_count": 52,
   "id": "1974764b",
   "metadata": {},
   "outputs": [
    {
     "name": "stdout",
     "output_type": "stream",
     "text": [
      "6000 원 \n"
     ]
    }
   ],
   "source": [
    "a = 1000\n",
    "b = 5000\n",
    "c = a+b\n",
    "print('%d 원 '%c)"
   ]
  },
  {
   "cell_type": "code",
   "execution_count": 54,
   "id": "1ac26f66",
   "metadata": {},
   "outputs": [
    {
     "name": "stdout",
     "output_type": "stream",
     "text": [
      "1000  5000 06000\n"
     ]
    }
   ],
   "source": [
    "print('{0:d} {1:5d} {2:05d}'.format(a,b,c))"
   ]
  },
  {
   "cell_type": "code",
   "execution_count": 59,
   "id": "46f1fc39",
   "metadata": {},
   "outputs": [
    {
     "name": "stdout",
     "output_type": "stream",
     "text": [
      "2022 04 11\n",
      "09 22 25\n",
      "2022/4/11 9:22:25\n"
     ]
    }
   ],
   "source": [
    "year,month,day = map(int,input().split())\n",
    "hour,minute,second = map(int,input().split())\n",
    "                         \n",
    "print(year,month,day,sep='/',end=' ')\n",
    "print(hour,minute,second,sep=':')                         "
   ]
  },
  {
   "cell_type": "code",
   "execution_count": 64,
   "id": "23537fc0",
   "metadata": {},
   "outputs": [
    {
     "data": {
      "text/plain": [
       "int"
      ]
     },
     "execution_count": 64,
     "metadata": {},
     "output_type": "execute_result"
    }
   ],
   "source": [
    "num1 = 10\n",
    "type(num1)"
   ]
  },
  {
   "cell_type": "code",
   "execution_count": 63,
   "id": "bc10835a",
   "metadata": {},
   "outputs": [
    {
     "data": {
      "text/plain": [
       "float"
      ]
     },
     "execution_count": 63,
     "metadata": {},
     "output_type": "execute_result"
    }
   ],
   "source": [
    "num2 = 1.234\n",
    "type(num1)"
   ]
  },
  {
   "cell_type": "code",
   "execution_count": 65,
   "id": "9e5cc869",
   "metadata": {},
   "outputs": [
    {
     "data": {
      "text/plain": [
       "str"
      ]
     },
     "execution_count": 65,
     "metadata": {},
     "output_type": "execute_result"
    }
   ],
   "source": [
    "num3 = 'Korea'\n",
    "type(num3)"
   ]
  },
  {
   "cell_type": "code",
   "execution_count": 66,
   "id": "d2d395bc",
   "metadata": {},
   "outputs": [
    {
     "data": {
      "text/plain": [
       "bool"
      ]
     },
     "execution_count": 66,
     "metadata": {},
     "output_type": "execute_result"
    }
   ],
   "source": [
    "num4 = True\n",
    "type(num4)"
   ]
  },
  {
   "cell_type": "code",
   "execution_count": 72,
   "id": "bea96549",
   "metadata": {},
   "outputs": [
    {
     "data": {
      "text/plain": [
       "1"
      ]
     },
     "execution_count": 72,
     "metadata": {},
     "output_type": "execute_result"
    }
   ],
   "source": [
    "5%2"
   ]
  },
  {
   "cell_type": "code",
   "execution_count": 73,
   "id": "5923cb12",
   "metadata": {},
   "outputs": [
    {
     "data": {
      "text/plain": [
       "2.5"
      ]
     },
     "execution_count": 73,
     "metadata": {},
     "output_type": "execute_result"
    }
   ],
   "source": [
    "5/2"
   ]
  },
  {
   "cell_type": "code",
   "execution_count": 69,
   "id": "cc8c7bc3",
   "metadata": {},
   "outputs": [
    {
     "data": {
      "text/plain": [
       "2"
      ]
     },
     "execution_count": 69,
     "metadata": {},
     "output_type": "execute_result"
    }
   ],
   "source": [
    "5//2"
   ]
  },
  {
   "cell_type": "code",
   "execution_count": 74,
   "id": "3de35241",
   "metadata": {},
   "outputs": [
    {
     "data": {
      "text/plain": [
       "6"
      ]
     },
     "execution_count": 74,
     "metadata": {},
     "output_type": "execute_result"
    }
   ],
   "source": [
    "2*3"
   ]
  },
  {
   "cell_type": "code",
   "execution_count": 75,
   "id": "d371dd54",
   "metadata": {},
   "outputs": [
    {
     "data": {
      "text/plain": [
       "8"
      ]
     },
     "execution_count": 75,
     "metadata": {},
     "output_type": "execute_result"
    }
   ],
   "source": [
    "2**3"
   ]
  },
  {
   "cell_type": "code",
   "execution_count": 76,
   "id": "1b38cf9b",
   "metadata": {},
   "outputs": [],
   "source": [
    "# 관계연산자 \n",
    "\n",
    "#같다 ==\n",
    "#같지않다 !="
   ]
  },
  {
   "cell_type": "code",
   "execution_count": 80,
   "id": "376d167d",
   "metadata": {},
   "outputs": [
    {
     "name": "stdout",
     "output_type": "stream",
     "text": [
      "30\n"
     ]
    }
   ],
   "source": [
    "a = 10\n",
    "a += 20 \n",
    "# a = a + 20 과 같은 문법\n",
    "print(a)"
   ]
  },
  {
   "cell_type": "code",
   "execution_count": null,
   "id": "966695ed",
   "metadata": {},
   "outputs": [],
   "source": []
  }
 ],
 "metadata": {
  "kernelspec": {
   "display_name": "Python 3 (ipykernel)",
   "language": "python",
   "name": "python3"
  },
  "language_info": {
   "codemirror_mode": {
    "name": "ipython",
    "version": 3
   },
   "file_extension": ".py",
   "mimetype": "text/x-python",
   "name": "python",
   "nbconvert_exporter": "python",
   "pygments_lexer": "ipython3",
   "version": "3.10.4"
  }
 },
 "nbformat": 4,
 "nbformat_minor": 5
}
