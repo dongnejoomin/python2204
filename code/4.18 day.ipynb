{
 "cells": [
  {
   "cell_type": "code",
   "execution_count": 10,
   "id": "c9770489",
   "metadata": {},
   "outputs": [
    {
     "name": "stdout",
     "output_type": "stream",
     "text": [
      "x에 들어있는 숫자는\n",
      "10입니다.\n"
     ]
    }
   ],
   "source": [
    "x = 10\n",
    "\n",
    "if x == 10:\n",
    "    print('x에 들어있는 숫자는')\n",
    "    print('10입니다.')\n",
    "#if 조건문:\n",
    "#    print('조건문에 맞는 값')\n",
    "#lese:\n",
    "#    print('조건문에 맞지않는 값')"
   ]
  },
  {
   "cell_type": "code",
   "execution_count": 9,
   "id": "7d35f82f",
   "metadata": {},
   "outputs": [
    {
     "name": "stdout",
     "output_type": "stream",
     "text": [
      "10이 아닙니다\n"
     ]
    }
   ],
   "source": [
    "x = 5\n",
    "\n",
    "if x == 10:\n",
    "    print('x에 들어있는 숫자는')\n",
    "    print('10입니다.')\n",
    "else:\n",
    "    print('10이 아닙니다')"
   ]
  },
  {
   "cell_type": "code",
   "execution_count": 15,
   "id": "14b01bab",
   "metadata": {},
   "outputs": [
    {
     "name": "stdout",
     "output_type": "stream",
     "text": [
      "5이하의 숫자를 입력하세요3\n",
      "3입니다.\n"
     ]
    }
   ],
   "source": [
    "x = int(input('5이하의 숫자를 입력하세요'))\n",
    "\n",
    "if x == 5:\n",
    "    print('5입니다.')\n",
    "elif x == 4:\n",
    "    print('4입니다.')\n",
    "elif x == 3:\n",
    "    print('3입니다.')\n",
    "elif x == 2:\n",
    "    print('2입니다.')\n",
    "elif x == 1:\n",
    "    print('1입니다.')\n",
    "else:\n",
    "    print('5이하의 숫자가 아닙니다.')"
   ]
  },
  {
   "cell_type": "code",
   "execution_count": 22,
   "id": "33342f83",
   "metadata": {},
   "outputs": [
    {
     "name": "stdout",
     "output_type": "stream",
     "text": [
      "1부터 10까지의 합 : 55\n"
     ]
    }
   ],
   "source": [
    "sum = 0\n",
    "for i in range(1,11):\n",
    "    sum = sum +i \n",
    "print('1부터 10까지의 합 : %d' %sum)"
   ]
  },
  {
   "cell_type": "code",
   "execution_count": 32,
   "id": "ca94f177",
   "metadata": {},
   "outputs": [
    {
     "name": "stdout",
     "output_type": "stream",
     "text": [
      "* * * * \n",
      "* * * * \n",
      "* * * * \n",
      "* * * * \n",
      "* * * * \n"
     ]
    }
   ],
   "source": [
    "for i in range(5):\n",
    "    for j in range(4):\n",
    "        print('*',end = \" \")\n",
    "    print()"
   ]
  },
  {
   "cell_type": "code",
   "execution_count": 59,
   "id": "4153d988",
   "metadata": {
    "scrolled": false
   },
   "outputs": [
    {
     "name": "stdout",
     "output_type": "stream",
     "text": [
      "줄수를 입력하세요5\n",
      "*\n",
      "**\n",
      "***\n",
      "****\n",
      "*****\n"
     ]
    }
   ],
   "source": [
    "x = int(input('줄수를 입력하세요'))\n",
    "\n",
    "for i in range(1, x1):\n",
    "    for j in range(i):\n",
    "        print('*',end = \"\")\n",
    "    print()"
   ]
  },
  {
   "cell_type": "code",
   "execution_count": 67,
   "id": "8bc3f24b",
   "metadata": {},
   "outputs": [
    {
     "name": "stdout",
     "output_type": "stream",
     "text": [
      "줄수를 입력하세요4\n",
      "   *\n",
      "  **\n",
      " ***\n",
      "****\n"
     ]
    }
   ],
   "source": [
    "x = int(input('줄수를 입력하세요'))\n",
    "\n",
    "for i in range(1, x+1):\n",
    "    for j in range(x-i):\n",
    "        print(' ',end = '')\n",
    "    for j in range(i):\n",
    "        print('*',end = \"\")\n",
    "    print()"
   ]
  },
  {
   "cell_type": "code",
   "execution_count": 37,
   "id": "9d1928c5",
   "metadata": {},
   "outputs": [
    {
     "name": "stdout",
     "output_type": "stream",
     "text": [
      "2\n",
      "2 * 1 = 2\n",
      "2 * 2 = 4\n",
      "2 * 3 = 6\n",
      "2 * 4 = 8\n",
      "2 * 5 = 10\n",
      "2 * 6 = 12\n",
      "2 * 7 = 14\n",
      "2 * 8 = 16\n",
      "2 * 9 = 18\n"
     ]
    }
   ],
   "source": [
    "n = int(input()) #구구단의 단수\n",
    "\n",
    "for i in range(1,10):\n",
    "    print('%d * %d = %d'%(n,i,n*i))"
   ]
  },
  {
   "cell_type": "code",
   "execution_count": 57,
   "id": "09bba949",
   "metadata": {},
   "outputs": [
    {
     "name": "stdout",
     "output_type": "stream",
     "text": [
      "구구단을 출력합니다.\n",
      "----2 단입니다.----\n",
      "2 * 9 = 18\n",
      "2 * 9 = 18\n",
      "2 * 9 = 18\n",
      "2 * 9 = 18\n",
      "2 * 9 = 18\n",
      "2 * 9 = 18\n",
      "2 * 9 = 18\n",
      "----3 단입니다.----\n",
      "3 * 9 = 27\n",
      "3 * 9 = 27\n",
      "3 * 9 = 27\n",
      "3 * 9 = 27\n",
      "3 * 9 = 27\n",
      "3 * 9 = 27\n",
      "3 * 9 = 27\n",
      "----4 단입니다.----\n",
      "4 * 9 = 36\n",
      "4 * 9 = 36\n",
      "4 * 9 = 36\n",
      "4 * 9 = 36\n",
      "4 * 9 = 36\n",
      "4 * 9 = 36\n",
      "4 * 9 = 36\n",
      "----5 단입니다.----\n",
      "5 * 9 = 45\n",
      "5 * 9 = 45\n",
      "5 * 9 = 45\n",
      "5 * 9 = 45\n",
      "5 * 9 = 45\n",
      "5 * 9 = 45\n",
      "5 * 9 = 45\n",
      "----6 단입니다.----\n",
      "6 * 9 = 54\n",
      "6 * 9 = 54\n",
      "6 * 9 = 54\n",
      "6 * 9 = 54\n",
      "6 * 9 = 54\n",
      "6 * 9 = 54\n",
      "6 * 9 = 54\n",
      "----7 단입니다.----\n",
      "7 * 9 = 63\n",
      "7 * 9 = 63\n",
      "7 * 9 = 63\n",
      "7 * 9 = 63\n",
      "7 * 9 = 63\n",
      "7 * 9 = 63\n",
      "7 * 9 = 63\n",
      "----8 단입니다.----\n",
      "8 * 9 = 72\n",
      "8 * 9 = 72\n",
      "8 * 9 = 72\n",
      "8 * 9 = 72\n",
      "8 * 9 = 72\n",
      "8 * 9 = 72\n",
      "8 * 9 = 72\n",
      "----9 단입니다.----\n",
      "9 * 9 = 81\n",
      "9 * 9 = 81\n",
      "9 * 9 = 81\n",
      "9 * 9 = 81\n",
      "9 * 9 = 81\n",
      "9 * 9 = 81\n",
      "9 * 9 = 81\n"
     ]
    }
   ],
   "source": [
    "print('구구단을 출력합니다.')\n",
    "for i in range(2,10):\n",
    "    print('----%d 단입니다.----'%i)\n",
    "    for k in range(3,10):\n",
    "        print('%d * %d = %d'%(i,j,i*j))"
   ]
  },
  {
   "cell_type": "code",
   "execution_count": 70,
   "id": "d263c0e7",
   "metadata": {},
   "outputs": [
    {
     "name": "stdout",
     "output_type": "stream",
     "text": [
      "helle, world 0\n",
      "helle, world 1\n",
      "helle, world 2\n",
      "helle, world 3\n",
      "helle, world 4\n",
      "helle, world 5\n",
      "helle, world 6\n",
      "helle, world 7\n",
      "helle, world 8\n",
      "helle, world 9\n",
      "helle, world 10\n",
      "helle, world 11\n",
      "helle, world 12\n",
      "helle, world 13\n",
      "helle, world 14\n",
      "helle, world 15\n",
      "helle, world 16\n",
      "helle, world 17\n",
      "helle, world 18\n",
      "helle, world 19\n",
      "helle, world 20\n",
      "helle, world 21\n",
      "helle, world 22\n",
      "helle, world 23\n",
      "helle, world 24\n",
      "helle, world 25\n",
      "helle, world 26\n",
      "helle, world 27\n",
      "helle, world 28\n",
      "helle, world 29\n",
      "helle, world 30\n",
      "helle, world 31\n",
      "helle, world 32\n",
      "helle, world 33\n",
      "helle, world 34\n",
      "helle, world 35\n",
      "helle, world 36\n",
      "helle, world 37\n",
      "helle, world 38\n",
      "helle, world 39\n",
      "helle, world 40\n",
      "helle, world 41\n",
      "helle, world 42\n",
      "helle, world 43\n",
      "helle, world 44\n",
      "helle, world 45\n",
      "helle, world 46\n",
      "helle, world 47\n",
      "helle, world 48\n",
      "helle, world 49\n",
      "helle, world 50\n",
      "helle, world 51\n",
      "helle, world 52\n",
      "helle, world 53\n",
      "helle, world 54\n",
      "helle, world 55\n",
      "helle, world 56\n",
      "helle, world 57\n",
      "helle, world 58\n",
      "helle, world 59\n",
      "helle, world 60\n",
      "helle, world 61\n",
      "helle, world 62\n",
      "helle, world 63\n",
      "helle, world 64\n",
      "helle, world 65\n",
      "helle, world 66\n",
      "helle, world 67\n",
      "helle, world 68\n",
      "helle, world 69\n",
      "helle, world 70\n",
      "helle, world 71\n",
      "helle, world 72\n",
      "helle, world 73\n",
      "helle, world 74\n",
      "helle, world 75\n",
      "helle, world 76\n",
      "helle, world 77\n",
      "helle, world 78\n",
      "helle, world 79\n",
      "helle, world 80\n",
      "helle, world 81\n",
      "helle, world 82\n",
      "helle, world 83\n",
      "helle, world 84\n",
      "helle, world 85\n",
      "helle, world 86\n",
      "helle, world 87\n",
      "helle, world 88\n",
      "helle, world 89\n",
      "helle, world 90\n",
      "helle, world 91\n",
      "helle, world 92\n",
      "helle, world 93\n",
      "helle, world 94\n",
      "helle, world 95\n",
      "helle, world 96\n",
      "helle, world 97\n",
      "helle, world 98\n",
      "helle, world 99\n"
     ]
    }
   ],
   "source": [
    "#대부분의 컴퓨터 프로그래밍 언어에서 while 루프는 반복문의 \n",
    "#일종으로, 주어진 불린 자료형 조건을 기반으로 코드가 반복적으로 \n",
    "#수행할 수 있게 도와준다. 이 while 루프는 if 문의 반복으로 \n",
    "#생각할 수도 있다.\n",
    "# while은 코드와 조건의 블록을 이루고 있다. 조건이 true라면 \n",
    "#블록 안의 코드는 실행한다. 조건이 false가 될 때까지 이 작업을 \n",
    "#반복한다. 블록을 실행하기 전에 while 루프를 검사하므로 제어 \n",
    "#구조는 사전 시험 루프(pre-test loop)로 불리기도 한다. 루프를 \n",
    "#실행한 뒤에 조건을 시험하는 do while 루프와 비교된다.\n",
    "i=0\n",
    "while i < 100:\n",
    "    print('helle, world',i)\n",
    "    i += 1"
   ]
  },
  {
   "cell_type": "code",
   "execution_count": 71,
   "id": "90643071",
   "metadata": {},
   "outputs": [
    {
     "name": "stdout",
     "output_type": "stream",
     "text": [
      "반복할 횟수를 입력하세요 :10\n",
      "hello, world! 10\n",
      "hello, world! 9\n",
      "hello, world! 8\n",
      "hello, world! 7\n",
      "hello, world! 6\n",
      "hello, world! 5\n",
      "hello, world! 4\n",
      "hello, world! 3\n",
      "hello, world! 2\n",
      "hello, world! 1\n"
     ]
    }
   ],
   "source": [
    "count = int(input('반복할 횟수를 입력하세요 :'))\n",
    "\n",
    "while count > 0:\n",
    "    print('hello, world!',count)\n",
    "    count -= 1"
   ]
  },
  {
   "cell_type": "code",
   "execution_count": 74,
   "id": "35d00522",
   "metadata": {},
   "outputs": [
    {
     "name": "stdout",
     "output_type": "stream",
     "text": [
      "0\n",
      "1\n",
      "2\n",
      "3\n",
      "4\n",
      "--------\n",
      "0\n",
      "1\n",
      "2\n",
      "3\n",
      "4\n"
     ]
    }
   ],
   "source": [
    "# for문\n",
    "for i in range(0,5): # 반복 실행 횟수를 명확이 알때\n",
    "    print(i)\n",
    "print('--------')\n",
    "# while문 \n",
    "i = 0                # 반복 실행 횟수가 명확하지 않을때\n",
    "while i < 5:  \n",
    "    print(i)\n",
    "    i = i +1"
   ]
  },
  {
   "cell_type": "code",
   "execution_count": 75,
   "id": "4cbcd41d",
   "metadata": {},
   "outputs": [
    {
     "name": "stdout",
     "output_type": "stream",
     "text": [
      "0\n",
      "1\n",
      "2\n",
      "3\n",
      "4\n",
      "5\n",
      "6\n",
      "7\n",
      "8\n",
      "9\n",
      "10\n",
      "11\n",
      "12\n",
      "13\n",
      "14\n",
      "15\n",
      "16\n",
      "17\n",
      "18\n",
      "19\n",
      "20\n",
      "21\n",
      "22\n",
      "23\n",
      "24\n",
      "25\n",
      "26\n",
      "27\n",
      "28\n",
      "29\n",
      "30\n",
      "31\n",
      "32\n",
      "33\n",
      "34\n",
      "35\n",
      "36\n",
      "37\n",
      "38\n",
      "39\n",
      "40\n",
      "41\n",
      "42\n",
      "43\n",
      "44\n",
      "45\n",
      "46\n",
      "47\n",
      "48\n",
      "49\n",
      "50\n",
      "51\n",
      "52\n",
      "53\n",
      "54\n",
      "55\n",
      "56\n",
      "57\n",
      "58\n",
      "59\n",
      "60\n",
      "61\n",
      "62\n",
      "63\n",
      "64\n",
      "65\n",
      "66\n",
      "67\n",
      "68\n",
      "69\n",
      "70\n",
      "71\n",
      "72\n",
      "73\n",
      "74\n",
      "75\n",
      "76\n",
      "77\n",
      "78\n",
      "79\n",
      "80\n",
      "81\n",
      "82\n",
      "83\n",
      "84\n",
      "85\n",
      "86\n",
      "87\n",
      "88\n",
      "89\n",
      "90\n",
      "91\n",
      "92\n",
      "93\n",
      "94\n",
      "95\n",
      "96\n",
      "97\n",
      "98\n",
      "99\n"
     ]
    }
   ],
   "source": [
    "i = 0\n",
    "while True:       #무한 루프\n",
    "    print(i)\n",
    "    i += 1        #i를 1씩 증가시킴 \n",
    "    if i == 100:  #i가 100일때\n",
    "        break     #반복문을 끝냄. while의 제어흐름을 벗어남"
   ]
  },
  {
   "cell_type": "code",
   "execution_count": 78,
   "id": "7020df38",
   "metadata": {},
   "outputs": [
    {
     "name": "stdout",
     "output_type": "stream",
     "text": [
      "3 13 23 33 43 53 63 73 83 93 "
     ]
    }
   ],
   "source": [
    "# 100보다 작은값중 3으로 끝나는 숫자만 출력하시오.\n",
    "i = 0\n",
    "while True:          #무한반복\n",
    "    if i % 10 !=3:   #3으로 끝나지 않으면\n",
    "        i += 1       #1씩증가시켜라\n",
    "        continue     #while문으로 보내라\n",
    "    if i > 100:      \n",
    "        break\n",
    "    print(i, end=\" \")\n",
    "    i += 1 "
   ]
  },
  {
   "cell_type": "code",
   "execution_count": 79,
   "id": "170aa0f2",
   "metadata": {},
   "outputs": [
    {
     "name": "stdout",
     "output_type": "stream",
     "text": [
      "1\n",
      "3\n",
      "5\n",
      "7\n",
      "9\n",
      "11\n",
      "13\n",
      "15\n",
      "17\n",
      "19\n",
      "21\n",
      "23\n",
      "25\n",
      "27\n",
      "29\n",
      "31\n",
      "33\n",
      "35\n",
      "37\n",
      "39\n",
      "41\n",
      "43\n",
      "45\n",
      "47\n",
      "49\n",
      "51\n",
      "53\n",
      "55\n",
      "57\n",
      "59\n",
      "61\n",
      "63\n",
      "65\n",
      "67\n",
      "69\n",
      "71\n",
      "73\n",
      "75\n",
      "77\n",
      "79\n",
      "81\n",
      "83\n",
      "85\n",
      "87\n",
      "89\n",
      "91\n",
      "93\n",
      "95\n",
      "97\n",
      "99\n"
     ]
    }
   ],
   "source": [
    "for i in range(100): #0부터 99까지 증가하면서 100번 반복\n",
    "    if i % 2 == 0:   # i를 2로 나누었을때 나머지가 0이면 짝주\n",
    "        continue     # 아래코드를 실행하지 않고 건너뜀\n",
    "    print(i)         # 홀수 값만 출력"
   ]
  },
  {
   "cell_type": "code",
   "execution_count": 80,
   "id": "0e905262",
   "metadata": {},
   "outputs": [
    {
     "name": "stdout",
     "output_type": "stream",
     "text": [
      "반복할 횟수를 입력하세요 :10\n",
      "0\n",
      "1\n",
      "2\n",
      "3\n",
      "4\n",
      "5\n",
      "6\n",
      "7\n",
      "8\n",
      "9\n"
     ]
    }
   ],
   "source": [
    "count = int(input('반복할 횟수를 입력하세요 :'))\n",
    "\n",
    "i = 0\n",
    "while True:      #무한루프\n",
    "    print(i)\n",
    "    i += 1\n",
    "    if i == count:  # i가 입력받은 값과 같을때\n",
    "        break       # 반복문을 끝냄\n",
    "        "
   ]
  },
  {
   "cell_type": "code",
   "execution_count": 83,
   "id": "c5d68bec",
   "metadata": {},
   "outputs": [
    {
     "name": "stdout",
     "output_type": "stream",
     "text": [
      "1~100의 합계(3의 배수 제외) : 3367\n"
     ]
    }
   ],
   "source": [
    "sum, i = 0, 0\n",
    "for i in range(1,101):\n",
    "    if i % 3 == 0:\n",
    "        continue\n",
    "    sum += i\n",
    "print(\"1~100의 합계(3의 배수 제외) : %d\"%sum)"
   ]
  },
  {
   "cell_type": "code",
   "execution_count": 85,
   "id": "58c9d4db",
   "metadata": {},
   "outputs": [
    {
     "name": "stdout",
     "output_type": "stream",
     "text": [
      "1~100의 합계(3의 배수만) : 1683\n"
     ]
    }
   ],
   "source": [
    "sum, i = 0, 0\n",
    "for i in range(1,101):\n",
    "    if i % 3 != 0:\n",
    "        continue\n",
    "    sum += i\n",
    "print(\"1~100의 합계(3의 배수만) : %d\"%sum)"
   ]
  },
  {
   "cell_type": "code",
   "execution_count": 91,
   "id": "67517803",
   "metadata": {},
   "outputs": [
    {
     "name": "stdout",
     "output_type": "stream",
     "text": [
      "3 13 23 33 43 53 63 73 83 93 "
     ]
    }
   ],
   "source": [
    "i = 0\n",
    "while True:\n",
    "    if i % 10 != 3:\n",
    "        i +=1 \n",
    "        continue\n",
    "    if i > 100:\n",
    "        break\n",
    "    print(i,end=' ')\n",
    "    i +=1"
   ]
  },
  {
   "cell_type": "code",
   "execution_count": 96,
   "id": "49042888",
   "metadata": {},
   "outputs": [
    {
     "name": "stdout",
     "output_type": "stream",
     "text": [
      "1 50\n",
      "1 2 4 5 6 7 8 9 10 11 12 14 15 16 17 18 19 20 21 22 24 25 26 27 28 29 30 31 32 34 35 36 37 38 39 40 41 42 44 45 46 47 48 49 50 "
     ]
    }
   ],
   "source": [
    "start, stop = map(int,input().split())\n",
    "\n",
    "i = start\n",
    "\n",
    "while True:\n",
    "    if i % 10 == 3:\n",
    "        i += 1\n",
    "        continue\n",
    "    if i > stop:\n",
    "        break\n",
    "    print(i, end=' ')\n",
    "    i += 1"
   ]
  },
  {
   "cell_type": "code",
   "execution_count": null,
   "id": "9ab0af50",
   "metadata": {},
   "outputs": [],
   "source": []
  }
 ],
 "metadata": {
  "kernelspec": {
   "display_name": "Python 3 (ipykernel)",
   "language": "python",
   "name": "python3"
  },
  "language_info": {
   "codemirror_mode": {
    "name": "ipython",
    "version": 3
   },
   "file_extension": ".py",
   "mimetype": "text/x-python",
   "name": "python",
   "nbconvert_exporter": "python",
   "pygments_lexer": "ipython3",
   "version": "3.10.4"
  }
 },
 "nbformat": 4,
 "nbformat_minor": 5
}
