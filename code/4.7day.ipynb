{
 "cells": [
  {
   "cell_type": "code",
   "execution_count": 6,
   "id": "dba3c419",
   "metadata": {},
   "outputs": [
    {
     "name": "stdout",
     "output_type": "stream",
     "text": [
      "30\n",
      "a+b= 30\n"
     ]
    }
   ],
   "source": [
    "# 간단한 더하기 예제\n",
    "a = 10 \n",
    "b = 20\n",
    "print(a+b) # a와 b를 더해라\n",
    "# print(\"a+b\")\n",
    "# print('a+b')\n",
    "print(\"a+b=\",a+b)"
   ]
  },
  {
   "cell_type": "code",
   "execution_count": 11,
   "id": "39de4a19",
   "metadata": {},
   "outputs": [
    {
     "name": "stdout",
     "output_type": "stream",
     "text": [
      "Hello\n",
      "Korea IT Academy\n"
     ]
    }
   ],
   "source": [
    "print('Hello');print('Korea IT Academy')"
   ]
  },
  {
   "cell_type": "code",
   "execution_count": 10,
   "id": "8be18646",
   "metadata": {},
   "outputs": [
    {
     "name": "stdout",
     "output_type": "stream",
     "text": [
      "10입니다\n"
     ]
    }
   ],
   "source": [
    "a = 10\n",
    "if a == 10:\n",
    "    print('10입니다')"
   ]
  },
  {
   "cell_type": "code",
   "execution_count": 14,
   "id": "b163e3b7",
   "metadata": {},
   "outputs": [
    {
     "name": "stdout",
     "output_type": "stream",
     "text": [
      "프로그램이 종료되었습니다\n"
     ]
    }
   ],
   "source": [
    "if 5 > 10:\n",
    "    print('5는 10보다 작다')\n",
    "    print('****************')\n",
    "print('프로그램이 종료되었습니다')"
   ]
  },
  {
   "cell_type": "code",
   "execution_count": 15,
   "id": "bdd89d6e",
   "metadata": {},
   "outputs": [
    {
     "data": {
      "text/plain": [
       "2"
      ]
     },
     "execution_count": 15,
     "metadata": {},
     "output_type": "execute_result"
    }
   ],
   "source": [
    "1+1"
   ]
  },
  {
   "cell_type": "code",
   "execution_count": 16,
   "id": "0fbea16b",
   "metadata": {},
   "outputs": [
    {
     "data": {
      "text/plain": [
       "20"
      ]
     },
     "execution_count": 16,
     "metadata": {},
     "output_type": "execute_result"
    }
   ],
   "source": [
    "2*10"
   ]
  },
  {
   "cell_type": "code",
   "execution_count": 18,
   "id": "01c70abd",
   "metadata": {},
   "outputs": [
    {
     "data": {
      "text/plain": [
       "1024"
      ]
     },
     "execution_count": 18,
     "metadata": {},
     "output_type": "execute_result"
    }
   ],
   "source": [
    "2 ** 10"
   ]
  },
  {
   "cell_type": "code",
   "execution_count": 22,
   "id": "a2aa95f8",
   "metadata": {},
   "outputs": [
    {
     "data": {
      "text/plain": [
       "10"
      ]
     },
     "execution_count": 22,
     "metadata": {},
     "output_type": "execute_result"
    }
   ],
   "source": [
    "int('10')"
   ]
  },
  {
   "cell_type": "code",
   "execution_count": 23,
   "id": "226552e8",
   "metadata": {},
   "outputs": [
    {
     "data": {
      "text/plain": [
       "int"
      ]
     },
     "execution_count": 23,
     "metadata": {},
     "output_type": "execute_result"
    }
   ],
   "source": [
    "type(10)"
   ]
  },
  {
   "cell_type": "code",
   "execution_count": 24,
   "id": "87a00aa9",
   "metadata": {},
   "outputs": [
    {
     "data": {
      "text/plain": [
       "float"
      ]
     },
     "execution_count": 24,
     "metadata": {},
     "output_type": "execute_result"
    }
   ],
   "source": [
    "type(10.1)"
   ]
  },
  {
   "cell_type": "code",
   "execution_count": 25,
   "id": "7a70ea17",
   "metadata": {},
   "outputs": [],
   "source": [
    "x = 10"
   ]
  },
  {
   "cell_type": "code",
   "execution_count": 26,
   "id": "87a511bf",
   "metadata": {},
   "outputs": [
    {
     "data": {
      "text/plain": [
       "10"
      ]
     },
     "execution_count": 26,
     "metadata": {},
     "output_type": "execute_result"
    }
   ],
   "source": [
    "x"
   ]
  },
  {
   "cell_type": "code",
   "execution_count": 27,
   "id": "844fa871",
   "metadata": {},
   "outputs": [],
   "source": [
    "x,y,z = 10,20,30"
   ]
  },
  {
   "cell_type": "code",
   "execution_count": 28,
   "id": "a182fb5d",
   "metadata": {},
   "outputs": [
    {
     "data": {
      "text/plain": [
       "10"
      ]
     },
     "execution_count": 28,
     "metadata": {},
     "output_type": "execute_result"
    }
   ],
   "source": [
    "x"
   ]
  },
  {
   "cell_type": "code",
   "execution_count": 29,
   "id": "66aab255",
   "metadata": {},
   "outputs": [
    {
     "data": {
      "text/plain": [
       "20"
      ]
     },
     "execution_count": 29,
     "metadata": {},
     "output_type": "execute_result"
    }
   ],
   "source": [
    "y"
   ]
  },
  {
   "cell_type": "code",
   "execution_count": 30,
   "id": "e9c979dd",
   "metadata": {},
   "outputs": [
    {
     "data": {
      "text/plain": [
       "30"
      ]
     },
     "execution_count": 30,
     "metadata": {},
     "output_type": "execute_result"
    }
   ],
   "source": [
    "z"
   ]
  },
  {
   "cell_type": "code",
   "execution_count": 33,
   "id": "3f06c72d",
   "metadata": {},
   "outputs": [],
   "source": [
    "x=y=z=10"
   ]
  },
  {
   "cell_type": "code",
   "execution_count": 34,
   "id": "17ce348b",
   "metadata": {},
   "outputs": [
    {
     "data": {
      "text/plain": [
       "10"
      ]
     },
     "execution_count": 34,
     "metadata": {},
     "output_type": "execute_result"
    }
   ],
   "source": [
    "x"
   ]
  },
  {
   "cell_type": "code",
   "execution_count": 35,
   "id": "f0f4b992",
   "metadata": {},
   "outputs": [
    {
     "data": {
      "text/plain": [
       "10"
      ]
     },
     "execution_count": 35,
     "metadata": {},
     "output_type": "execute_result"
    }
   ],
   "source": [
    "y"
   ]
  },
  {
   "cell_type": "code",
   "execution_count": 36,
   "id": "e2691d59",
   "metadata": {},
   "outputs": [
    {
     "data": {
      "text/plain": [
       "10"
      ]
     },
     "execution_count": 36,
     "metadata": {},
     "output_type": "execute_result"
    }
   ],
   "source": [
    "z"
   ]
  },
  {
   "cell_type": "code",
   "execution_count": 42,
   "id": "06e57979",
   "metadata": {},
   "outputs": [
    {
     "name": "stdout",
     "output_type": "stream",
     "text": [
      "50\n",
      "50\n"
     ]
    }
   ],
   "source": [
    "number = input()\n",
    "print(number)"
   ]
  },
  {
   "cell_type": "code",
   "execution_count": 43,
   "id": "0bacc73e",
   "metadata": {},
   "outputs": [
    {
     "data": {
      "text/plain": [
       "'50'"
      ]
     },
     "execution_count": 43,
     "metadata": {},
     "output_type": "execute_result"
    }
   ],
   "source": [
    "number"
   ]
  },
  {
   "cell_type": "code",
   "execution_count": 44,
   "id": "8bdb235b",
   "metadata": {},
   "outputs": [
    {
     "name": "stdout",
     "output_type": "stream",
     "text": [
      "Hello, world!\n"
     ]
    }
   ],
   "source": [
    "x = input()"
   ]
  },
  {
   "cell_type": "code",
   "execution_count": 45,
   "id": "778e7dbe",
   "metadata": {},
   "outputs": [
    {
     "data": {
      "text/plain": [
       "'Hello, world!'"
      ]
     },
     "execution_count": 45,
     "metadata": {},
     "output_type": "execute_result"
    }
   ],
   "source": [
    "x"
   ]
  },
  {
   "cell_type": "code",
   "execution_count": 47,
   "id": "9ecbca0d",
   "metadata": {},
   "outputs": [
    {
     "name": "stdout",
     "output_type": "stream",
     "text": [
      "당신의 이름을 입력하세요 : \n",
      "최동훈\n",
      "Hi 최동훈 How are you today?\n"
     ]
    }
   ],
   "source": [
    "print('당신의 이름을 입력하세요 : ')\n",
    "name = input()\n",
    "print(\"Hi\",name,\"How are you today?\")"
   ]
  },
  {
   "cell_type": "code",
   "execution_count": 56,
   "id": "4f699057",
   "metadata": {},
   "outputs": [
    {
     "name": "stdout",
     "output_type": "stream",
     "text": [
      "첫 번째 숫자를 입력하세요10\n",
      "두 번째 숫자를 입력하세요20\n",
      "30\n"
     ]
    }
   ],
   "source": [
    "a = int(input('첫 번째 숫자를 입력하세요'))\n",
    "b = int(input('두 번째 숫자를 입력하세요'))\n",
    "\n",
    "print(a + b)"
   ]
  },
  {
   "cell_type": "code",
   "execution_count": 54,
   "id": "b05621ef",
   "metadata": {},
   "outputs": [
    {
     "name": "stdout",
     "output_type": "stream",
     "text": [
      "태어난해를 입력하세요 : 1985\n",
      "당신의 나이는 : 37 입니다\n"
     ]
    }
   ],
   "source": [
    "# 입력함수 input('메시지')\n",
    "birthyear = input('태어난해를 입력하세요 : ')\n",
    "age = 2022 - int(birthyear)\n",
    "print('당신의 나이는 :',age,'입니다')"
   ]
  },
  {
   "cell_type": "code",
   "execution_count": 57,
   "id": "17fd9ac1",
   "metadata": {},
   "outputs": [
    {
     "name": "stdout",
     "output_type": "stream",
     "text": [
      "본 프로그램은 섭씨온도를 화씨온도로 변환하는 프로그램입니다.\n",
      "변환하고 싶은 섭씨온도를 입력하세요 :36.5\n",
      "섭씨온도 : 36.5\n",
      "화씨온도 : 97.7\n"
     ]
    }
   ],
   "source": [
    "print(\"본 프로그램은 섭씨온도를 화씨온도로 변환하는 프로그램입니다.\")\n",
    "\n",
    "celsius=input('변환하고 싶은 섭씨온도를 입력하세요 :')\n",
    "fahrenheit=float(celsius)*1.8+32\n",
    "\n",
    "print('섭씨온도 :',celsius)\n",
    "print('화씨온도 :',fahrenheit)"
   ]
  },
  {
   "cell_type": "code",
   "execution_count": 58,
   "id": "965ee4f1",
   "metadata": {},
   "outputs": [
    {
     "name": "stdout",
     "output_type": "stream",
     "text": [
      "문자열 두개를 입력하세요Hello Python\n",
      "Hello\n",
      "Python\n"
     ]
    }
   ],
   "source": [
    "a,b = input('문자열 두개를 입력하세요').split()\n",
    "print(a)\n",
    "print(b)"
   ]
  },
  {
   "cell_type": "code",
   "execution_count": 60,
   "id": "d7d878c6",
   "metadata": {},
   "outputs": [
    {
     "name": "stdout",
     "output_type": "stream",
     "text": [
      "숫자 두개를 입력하세요 : 10 20\n",
      "1020\n"
     ]
    }
   ],
   "source": [
    "a,b = input('숫자 두개를 입력하세요 : ').split()\n",
    "print(a+b)"
   ]
  },
  {
   "cell_type": "code",
   "execution_count": 65,
   "id": "3810baa5",
   "metadata": {},
   "outputs": [
    {
     "name": "stdout",
     "output_type": "stream",
     "text": [
      "숫자 두개를 입력하세요 : 10 20\n",
      "30\n"
     ]
    }
   ],
   "source": [
    "a,b = input('숫자 두개를 입력하세요 : ').split()\n",
    "a = int(a)\n",
    "b = int(b)\n",
    "print(a+b)"
   ]
  },
  {
   "cell_type": "code",
   "execution_count": 67,
   "id": "1c268834",
   "metadata": {},
   "outputs": [
    {
     "name": "stdout",
     "output_type": "stream",
     "text": [
      "숫자 두개를 입력하세요 :10 20\n",
      "30\n"
     ]
    }
   ],
   "source": [
    "a,b = map(int,input('숫자 두개를 입력하세요 :').split())\n",
    "print(a+b)"
   ]
  },
  {
   "cell_type": "code",
   "execution_count": 84,
   "id": "6572ee13",
   "metadata": {},
   "outputs": [
    {
     "name": "stdout",
     "output_type": "stream",
     "text": [
      "숫자를 입력하세요 :-10 20 30\n",
      "40\n"
     ]
    }
   ],
   "source": [
    "a,b,c = map(int,input('숫자를 입력하세요 :').split())\n",
    "print(a+b+c)"
   ]
  },
  {
   "cell_type": "code",
   "execution_count": 82,
   "id": "84d28d1c",
   "metadata": {},
   "outputs": [
    {
     "name": "stdout",
     "output_type": "stream",
     "text": [
      "숫자를 입력하세요 :32 53 22 95\n",
      "50\n"
     ]
    }
   ],
   "source": [
    "a,b,c,d = map(int,input('숫자를 입력하세요 :').split())\n",
    "print(int((a+b+c+d) / 4))"
   ]
  },
  {
   "cell_type": "code",
   "execution_count": 85,
   "id": "842ab9f4",
   "metadata": {},
   "outputs": [
    {
     "name": "stdout",
     "output_type": "stream",
     "text": [
      "숫자를 입력하세요 :32 53 22 95\n",
      "50\n"
     ]
    }
   ],
   "source": [
    "a,b,c,d = map(int,input('숫자를 입력하세요 :').split())\n",
    "avg = int((a+b+c+d)/4)\n",
    "print(avg)"
   ]
  },
  {
   "cell_type": "code",
   "execution_count": null,
   "id": "e32d5d40",
   "metadata": {},
   "outputs": [],
   "source": []
  }
 ],
 "metadata": {
  "kernelspec": {
   "display_name": "Python 3 (ipykernel)",
   "language": "python",
   "name": "python3"
  },
  "language_info": {
   "codemirror_mode": {
    "name": "ipython",
    "version": 3
   },
   "file_extension": ".py",
   "mimetype": "text/x-python",
   "name": "python",
   "nbconvert_exporter": "python",
   "pygments_lexer": "ipython3",
   "version": "3.10.4"
  }
 },
 "nbformat": 4,
 "nbformat_minor": 5
}
