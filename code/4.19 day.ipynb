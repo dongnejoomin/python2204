{
 "cells": [
  {
   "cell_type": "code",
   "execution_count": 1,
   "id": "80eb492f",
   "metadata": {},
   "outputs": [],
   "source": [
    "def hello():\n",
    "    print('hello! world!')"
   ]
  },
  {
   "cell_type": "code",
   "execution_count": 2,
   "id": "b07a3576",
   "metadata": {},
   "outputs": [
    {
     "name": "stdout",
     "output_type": "stream",
     "text": [
      "hello! world!\n"
     ]
    }
   ],
   "source": [
    "hello()"
   ]
  },
  {
   "cell_type": "code",
   "execution_count": 3,
   "id": "2e7f0006",
   "metadata": {},
   "outputs": [],
   "source": [
    "def greet(name):\n",
    "    print('hello, '+ name + 'Good morning')"
   ]
  },
  {
   "cell_type": "code",
   "execution_count": 5,
   "id": "d1be59c1",
   "metadata": {},
   "outputs": [
    {
     "name": "stdout",
     "output_type": "stream",
     "text": [
      "hello, 철수야Good morning\n",
      "hello, 영수야Good morning\n"
     ]
    }
   ],
   "source": [
    "greet('철수야')\n",
    "greet('영수야')"
   ]
  },
  {
   "cell_type": "code",
   "execution_count": 7,
   "id": "0ac58451",
   "metadata": {},
   "outputs": [
    {
     "name": "stdout",
     "output_type": "stream",
     "text": [
      "이름 : 홍길동\n",
      "나이 : 19\n",
      "주소 : 청주시 상당구\n"
     ]
    }
   ],
   "source": [
    "def personalInfo(age, name, address): #두단어를 구별할때는 뒤에오는 단어 첫글자에 대문자로 한다.\n",
    "    print('이름 :', name)\n",
    "    print('나이 :', age)\n",
    "    print('주소 :', address)\n",
    "personalInfo(age = 19, name='홍길동', address='청주시 상당구')    "
   ]
  },
  {
   "cell_type": "code",
   "execution_count": 14,
   "id": "b6947511",
   "metadata": {},
   "outputs": [],
   "source": [
    "def sum(a,b):\n",
    "    print(a+b)"
   ]
  },
  {
   "cell_type": "code",
   "execution_count": 15,
   "id": "c3746bff",
   "metadata": {},
   "outputs": [
    {
     "name": "stdout",
     "output_type": "stream",
     "text": [
      "30\n"
     ]
    }
   ],
   "source": [
    "sum(10,20)"
   ]
  },
  {
   "cell_type": "code",
   "execution_count": 13,
   "id": "1bbedfe9",
   "metadata": {},
   "outputs": [
    {
     "name": "stdout",
     "output_type": "stream",
     "text": [
      "숫자 a를 입력해주세요 : 10\n",
      "숫자 b를 입력해주세요 : 20\n",
      "10 + 20 = 30\n"
     ]
    }
   ],
   "source": [
    "def sum(num1,num2):\n",
    "    print('{0:d} + {1:d} = {2:d}'.format(num1,num2, num1+num2))\n",
    "    \n",
    "a = int(input('숫자 a를 입력해주세요 : '))\n",
    "b = int(input('숫자 b를 입력해주세요 : '))\n",
    "\n",
    "sum(a,b)"
   ]
  },
  {
   "cell_type": "code",
   "execution_count": 16,
   "id": "75fc875c",
   "metadata": {},
   "outputs": [],
   "source": [
    "def add(a,b):\n",
    "    return a + b\n",
    "    "
   ]
  },
  {
   "cell_type": "code",
   "execution_count": 18,
   "id": "4dcac29e",
   "metadata": {},
   "outputs": [],
   "source": [
    "x = add(10,20)"
   ]
  },
  {
   "cell_type": "code",
   "execution_count": 19,
   "id": "3637a38e",
   "metadata": {},
   "outputs": [
    {
     "name": "stdout",
     "output_type": "stream",
     "text": [
      "30\n",
      "200\n"
     ]
    }
   ],
   "source": [
    "def funcionAdd(num1, num2):\n",
    "    return num1 + num2, num1 * num2\n",
    "r1, r2 = funcionAdd(10,20)\n",
    "print(r1)\n",
    "print(r2)"
   ]
  },
  {
   "cell_type": "code",
   "execution_count": 21,
   "id": "729cfc0a",
   "metadata": {},
   "outputs": [
    {
     "name": "stdout",
     "output_type": "stream",
     "text": [
      "30\n",
      "이 함수는 a와 b를 더한 뒤 결과를 반환하는 함수입니다.\n"
     ]
    }
   ],
   "source": [
    "def add(a,b):\n",
    "    \"\"\"이 함수는 a와 b를 더한 뒤 결과를 반환하는 함수입니다.\"\"\"\n",
    "    # 여기는 주석입니다.\n",
    "    return a + b\n",
    "x = add(10, 20)\n",
    "print(x)\n",
    "print(add.__doc__)"
   ]
  },
  {
   "cell_type": "code",
   "execution_count": 23,
   "id": "9d23cc82",
   "metadata": {},
   "outputs": [
    {
     "name": "stdout",
     "output_type": "stream",
     "text": [
      "10\n",
      "30\n",
      "60\n"
     ]
    }
   ],
   "source": [
    "def total(a, b=0, c=0):\n",
    "    print(a+b+c)\n",
    "    \n",
    "total(10)\n",
    "total(10, 20)\n",
    "total(10, 20, 30)"
   ]
  },
  {
   "cell_type": "code",
   "execution_count": 29,
   "id": "c5aaaf17",
   "metadata": {},
   "outputs": [],
   "source": [
    "def varSum(*numbers):\n",
    "    print(numbers)\n",
    "    sum = 0\n",
    "    for number in numbers:\n",
    "        sum += number\n",
    "    return sum"
   ]
  },
  {
   "cell_type": "code",
   "execution_count": 25,
   "id": "f39f3133",
   "metadata": {},
   "outputs": [
    {
     "name": "stdout",
     "output_type": "stream",
     "text": [
      "(1,)\n",
      "1\n",
      "(1, 2)\n",
      "3\n",
      "(1, 2, 3)\n",
      "6\n"
     ]
    }
   ],
   "source": [
    "print(varSum(1))\n",
    "print(varSum(1,2))\n",
    "print(varSum(1,2,3))"
   ]
  },
  {
   "cell_type": "code",
   "execution_count": 26,
   "id": "4bc63e4d",
   "metadata": {},
   "outputs": [
    {
     "name": "stdout",
     "output_type": "stream",
     "text": [
      "{'first': 3, 'second': 4, 'third': 5}\n",
      "첫번째 키워드값 3\n",
      "두번째 키워드값 4\n",
      "세번째 키워드값 5\n"
     ]
    }
   ],
   "source": [
    "def keyword_test(**keywords):\n",
    "    print(keywords)\n",
    "    print(\"첫번째 키워드값 {first}\".format(**keywords))\n",
    "    print(\"두번째 키워드값 {second}\".format(**keywords))\n",
    "    print(\"세번째 키워드값 {third}\".format(**keywords))\n",
    "    \n",
    "keyword_test(first=3, second=4, third=5)"
   ]
  },
  {
   "cell_type": "code",
   "execution_count": 30,
   "id": "71f8023e",
   "metadata": {},
   "outputs": [
    {
     "name": "stdout",
     "output_type": "stream",
     "text": [
      "11\n",
      "9\n"
     ]
    }
   ],
   "source": [
    "def calc(a,b):\n",
    "    add = a + b\n",
    "    sub = a - b\n",
    "    return add, sub\n",
    "\n",
    "add, sub = calc(10,1)\n",
    "\n",
    "print(add)\n",
    "print(sub)"
   ]
  },
  {
   "cell_type": "code",
   "execution_count": 31,
   "id": "74403f05",
   "metadata": {},
   "outputs": [
    {
     "name": "stdout",
     "output_type": "stream",
     "text": [
      "30\n",
      "200\n"
     ]
    }
   ],
   "source": [
    "def mul(a,b):\n",
    "    c = a * b\n",
    "    return c\n",
    "def add(a,b):\n",
    "    c = a + b\n",
    "    print(c)\n",
    "    d= mul(a,b)\n",
    "    print(d)\n",
    "\n",
    "x = 10\n",
    "y = 20\n",
    "add(x,y)"
   ]
  },
  {
   "cell_type": "code",
   "execution_count": 54,
   "id": "8e52977b",
   "metadata": {},
   "outputs": [
    {
     "name": "stdout",
     "output_type": "stream",
     "text": [
      "20 10\n",
      "덧셈 : 30, 뺄셈 : 10, 곱셈 : 200, 나눗셈2.0\n"
     ]
    }
   ],
   "source": [
    "x,y = map(int,input().split())\n",
    "\n",
    "def calc(a,b):\n",
    "    return(a+b, a-b, a*b, a/b)\n",
    "a,s,m,d = calc(x,y)\n",
    "print('덧셈 : {0}, 뺄셈 : {1}, 곱셈 : {2}, 나눗셈{3}'.format(a,s,m,d))"
   ]
  },
  {
   "cell_type": "code",
   "execution_count": 61,
   "id": "4e7adedd",
   "metadata": {},
   "outputs": [
    {
     "name": "stdout",
     "output_type": "stream",
     "text": [
      "계산을 입력하세요(+,-,*,/) :-\n",
      "첫번째 수를 입력하세요 : 10\n",
      "두번째 수를 입력하세요 : 2\n",
      "##계산기 : 10 - 2 = 8\n"
     ]
    }
   ],
   "source": [
    "#계산기 만들기\n",
    "\n",
    "# 함수 선언\n",
    "def calc(v1,v2,op):\n",
    "    result = 0       #결과값 중복을 막기 위한 초기값 설정\n",
    "    if op == '+':\n",
    "        result = v1 + v2\n",
    "    elif op == '-':\n",
    "        result = v1 - v2\n",
    "    elif op == '*':\n",
    "        result = v1 * v2\n",
    "    elif op == '/':\n",
    "        result = v1 / v2\n",
    "    return result\n",
    "\n",
    "res = 0\n",
    "var1, var2, oper = 0, 0,\"\"\n",
    "\n",
    "oper = input('계산을 입력하세요(+,-,*,/) :')\n",
    "var1 = int(input('첫번째 수를 입력하세요 : '))\n",
    "var2 = int(input('두번째 수를 입력하세요 : '))\n",
    "\n",
    "res = calc(var1, var2, oper)\n",
    "print(\"##계산기 : %d %s %d = %d\"%(var1, oper, var2, res))\n"
   ]
  },
  {
   "cell_type": "code",
   "execution_count": 69,
   "id": "57b979c0",
   "metadata": {},
   "outputs": [
    {
     "name": "stdout",
     "output_type": "stream",
     "text": [
      "** 로또 추첨을 시작합니다. **\n",
      "\n",
      "추첨된 로또 번호는 ==> 1 13 14 25 31 38 "
     ]
    }
   ],
   "source": [
    "# 로또 프로그램\n",
    "\n",
    "import random\n",
    "\n",
    "def getNumber():\n",
    "    return random.randrange(1, 46)\n",
    "\n",
    "lotto = []\n",
    "num = 0\n",
    "\n",
    "print('** 로또 추첨을 시작합니다. **\\n')\n",
    "while True:\n",
    "    num = getNumber()\n",
    "    \n",
    "    if lotto.count(num) == 0:\n",
    "        lotto.append(num)\n",
    "    if len(lotto) >= 6:\n",
    "        break\n",
    "print(\"추첨된 로또 번호는 ==>\",end = \" \")\n",
    "lotto.sort()\n",
    "for i in range(0, 6):\n",
    "    print(\"%d\"%lotto[i],end = \" \")\n"
   ]
  },
  {
   "cell_type": "code",
   "execution_count": 70,
   "id": "b1e9d9b2",
   "metadata": {},
   "outputs": [
    {
     "name": "stdout",
     "output_type": "stream",
     "text": [
      "20\n",
      "10\n"
     ]
    }
   ],
   "source": [
    "x = 10\n",
    "def foo():\n",
    "    x = 20\n",
    "    print(x)\n",
    "foo()\n",
    "print(x)"
   ]
  },
  {
   "cell_type": "code",
   "execution_count": 71,
   "id": "6d374506",
   "metadata": {},
   "outputs": [
    {
     "name": "stdout",
     "output_type": "stream",
     "text": [
      "지역 변수\n",
      "전역 변수\n",
      "전역 변수\n"
     ]
    }
   ],
   "source": [
    "def func():\n",
    "    global global_var\n",
    "    local_var = \"지역 변수\"\n",
    "    print(local_var)\n",
    "    print(global_var)\n",
    "    \n",
    "global_var = \"전역 변수\"\n",
    "func()\n",
    "print(global_var)"
   ]
  },
  {
   "cell_type": "code",
   "execution_count": 74,
   "id": "62214c35",
   "metadata": {},
   "outputs": [
    {
     "name": "stdout",
     "output_type": "stream",
     "text": [
      "10\n",
      "지역변수 값 :  20\n",
      "전역변수 값 :  10\n"
     ]
    },
    {
     "ename": "NameError",
     "evalue": "name 't' is not defined",
     "output_type": "error",
     "traceback": [
      "\u001b[1;31m---------------------------------------------------------------------------\u001b[0m",
      "\u001b[1;31mNameError\u001b[0m                                 Traceback (most recent call last)",
      "Input \u001b[1;32mIn [74]\u001b[0m, in \u001b[0;36m<cell line: 9>\u001b[1;34m()\u001b[0m\n\u001b[0;32m      7\u001b[0m test(x)\n\u001b[0;32m      8\u001b[0m \u001b[38;5;28mprint\u001b[39m(\u001b[38;5;124m\"\u001b[39m\u001b[38;5;124m전역변수 값 : \u001b[39m\u001b[38;5;124m\"\u001b[39m,x)\n\u001b[1;32m----> 9\u001b[0m \u001b[38;5;28mprint\u001b[39m(\u001b[38;5;124m\"\u001b[39m\u001b[38;5;124m전역변수 값 : \u001b[39m\u001b[38;5;124m\"\u001b[39m,\u001b[43mt\u001b[49m)\n",
      "\u001b[1;31mNameError\u001b[0m: name 't' is not defined"
     ]
    }
   ],
   "source": [
    "def test(t):\n",
    "    print(x)                  # 전역변수 x값이 입력된다.\n",
    "    t = 20\n",
    "    print(\"지역변수 값 : \",t) # 지역변수 t가 입력된다.\n",
    "\n",
    "x = 10\n",
    "test(x)\n",
    "print(\"전역변수 값 : \",x)\n",
    "print(\"전역변수 값 : \",t)     # 지정된 변수가 없어서 에러가 발생"
   ]
  },
  {
   "cell_type": "code",
   "execution_count": null,
   "id": "99efc24f",
   "metadata": {},
   "outputs": [],
   "source": []
  }
 ],
 "metadata": {
  "kernelspec": {
   "display_name": "Python 3 (ipykernel)",
   "language": "python",
   "name": "python3"
  },
  "language_info": {
   "codemirror_mode": {
    "name": "ipython",
    "version": 3
   },
   "file_extension": ".py",
   "mimetype": "text/x-python",
   "name": "python",
   "nbconvert_exporter": "python",
   "pygments_lexer": "ipython3",
   "version": "3.10.4"
  }
 },
 "nbformat": 4,
 "nbformat_minor": 5
}
