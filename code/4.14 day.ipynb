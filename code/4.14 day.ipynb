{
 "cells": [
  {
   "cell_type": "code",
   "execution_count": 1,
   "id": "f1340b7c",
   "metadata": {},
   "outputs": [
    {
     "name": "stdout",
     "output_type": "stream",
     "text": [
      "10입니다.\n"
     ]
    }
   ],
   "source": [
    "x = 10\n",
    "if x == 10:\n",
    "    print('10입니다.')"
   ]
  },
  {
   "cell_type": "code",
   "execution_count": 2,
   "id": "0aa3ea8e",
   "metadata": {},
   "outputs": [],
   "source": [
    "x = 5\n",
    "if x == 10:\n",
    "    print('10입니다.')\n",
    "#틀린값은 출력되지않는다."
   ]
  },
  {
   "cell_type": "code",
   "execution_count": 3,
   "id": "7f4b0a17",
   "metadata": {},
   "outputs": [
    {
     "name": "stdout",
     "output_type": "stream",
     "text": [
      "x에 들어있는 숫자는\n",
      "10입니다.\n"
     ]
    }
   ],
   "source": [
    "x = 10\n",
    "if x == 10:\n",
    "    print('x에 들어있는 숫자는')\n",
    "print('10입니다.')"
   ]
  },
  {
   "cell_type": "code",
   "execution_count": 4,
   "id": "9329cf48",
   "metadata": {},
   "outputs": [
    {
     "name": "stdout",
     "output_type": "stream",
     "text": [
      "10입니다.\n"
     ]
    }
   ],
   "source": [
    "x = 5\n",
    "if x == 10:\n",
    "    print('x에 들어있는 숫자는')\n",
    "print('10입니다.')\n",
    "#if문은 아래 4칸띄워져있는 프린트문만 출력됨.\n",
    "#띄워지지 않은 프린트문은 출력됨."
   ]
  },
  {
   "cell_type": "code",
   "execution_count": 5,
   "id": "4ea8eca2",
   "metadata": {},
   "outputs": [],
   "source": [
    "x = 5\n",
    "if x == 10:\n",
    "    print('x에 들어있는 숫자는')\n",
    "    print('10입니다.')\n",
    "#틀린겂은 출력되시 않는다."
   ]
  },
  {
   "cell_type": "code",
   "execution_count": 7,
   "id": "22a713c6",
   "metadata": {},
   "outputs": [
    {
     "name": "stdout",
     "output_type": "stream",
     "text": [
      "임의 숫자 입력 :50\n",
      "100보다 작은수\n",
      "프로그램 종료\n"
     ]
    }
   ],
   "source": [
    "a = int(input('임의 숫자 입력 :'))\n",
    "\n",
    "if a <100:\n",
    "    print('100보다 작은수')\n",
    "print('프로그램 종료')"
   ]
  },
  {
   "cell_type": "code",
   "execution_count": 9,
   "id": "df46af0a",
   "metadata": {},
   "outputs": [
    {
     "name": "stdout",
     "output_type": "stream",
     "text": [
      "임의 숫자 입력 :15\n",
      "pass\n"
     ]
    }
   ],
   "source": [
    "x = int(input('임의 숫자 입력 :'))\n",
    "if x != 20:\n",
    "    print('pass')"
   ]
  },
  {
   "cell_type": "code",
   "execution_count": 12,
   "id": "91defe26",
   "metadata": {},
   "outputs": [
    {
     "name": "stdout",
     "output_type": "stream",
     "text": [
      "금액을 입력하세요20000\n",
      "쿠폰이름을 입력하세요sale5000\n",
      "15000\n"
     ]
    }
   ],
   "source": [
    "a = int(input('금액을 입력하세요'))\n",
    "b = str(input('쿠폰이름을 입력하세요'))\n",
    "\n",
    "if b == 'sale3000':\n",
    "    a -= 3000 #a = a-3000 과 같은뜻\n",
    "if b  == 'sale5000':\n",
    "    a -= 5000\n",
    "print(a)"
   ]
  },
  {
   "cell_type": "code",
   "execution_count": 14,
   "id": "4f3d62d7",
   "metadata": {},
   "outputs": [
    {
     "name": "stdout",
     "output_type": "stream",
     "text": [
      "임의 숫자 입력 :50\n",
      "100보다 작은수\n",
      "프로그램종료\n"
     ]
    }
   ],
   "source": [
    "a = int(input('임의 숫자 입력 :'))\n",
    "if a < 100:\n",
    "    print('100보다 작은수')\n",
    "else:\n",
    "     print('100보다 크거나 같은수')\n",
    "print('프로그램종료')        "
   ]
  },
  {
   "cell_type": "code",
   "execution_count": 15,
   "id": "2d66d594",
   "metadata": {},
   "outputs": [
    {
     "name": "stdout",
     "output_type": "stream",
     "text": [
      "금액을 입력하세요20000\n",
      "쿠폰이름을 입력하세요쿠폰\n",
      "15000\n"
     ]
    }
   ],
   "source": [
    "a = int(input('금액을 입력하세요'))\n",
    "b = str(input('쿠폰이름을 입력하세요'))\n",
    "\n",
    "if b == 'sale3000':\n",
    "    a -= 3000 #a = a-3000 과 같은뜻\n",
    "else:\n",
    "    a -= 5000\n",
    "print(a)"
   ]
  },
  {
   "cell_type": "code",
   "execution_count": 16,
   "id": "4d4640ea",
   "metadata": {},
   "outputs": [
    {
     "name": "stdout",
     "output_type": "stream",
     "text": [
      "참\n"
     ]
    }
   ],
   "source": [
    "x = 10\n",
    "y = 20\n",
    "if x == 10 and y == 20:\n",
    "    print('참')\n",
    "else:\n",
    "    print('거짓')"
   ]
  },
  {
   "cell_type": "code",
   "execution_count": 17,
   "id": "8b53e09f",
   "metadata": {},
   "outputs": [
    {
     "name": "stdout",
     "output_type": "stream",
     "text": [
      "거짓\n"
     ]
    }
   ],
   "source": [
    "x = 5\n",
    "y = 20\n",
    "if x == 10 and y == 20:\n",
    "    print('참')\n",
    "else:\n",
    "    print('거짓')"
   ]
  },
  {
   "cell_type": "code",
   "execution_count": 18,
   "id": "48d41a3a",
   "metadata": {},
   "outputs": [
    {
     "name": "stdout",
     "output_type": "stream",
     "text": [
      "참\n"
     ]
    }
   ],
   "source": [
    "x = 5\n",
    "y = 20\n",
    "if x == 10 or y == 20:\n",
    "    print('참')\n",
    "else:\n",
    "    print('거짓')"
   ]
  },
  {
   "cell_type": "code",
   "execution_count": 22,
   "id": "7b5130d9",
   "metadata": {},
   "outputs": [
    {
     "name": "stdout",
     "output_type": "stream",
     "text": [
      "불합격\n"
     ]
    }
   ],
   "source": [
    "written_test = 75\n",
    "interview_test = True\n",
    "\n",
    "if written_test >= 80 and interview_test == True:\n",
    "    print('합격')\n",
    "else:\n",
    "    print('불합격')"
   ]
  },
  {
   "cell_type": "code",
   "execution_count": 26,
   "id": "c4050ad0",
   "metadata": {},
   "outputs": [
    {
     "name": "stdout",
     "output_type": "stream",
     "text": [
      "90 90 90 90\n",
      "합격\n"
     ]
    }
   ],
   "source": [
    "a,b,c,d = map(int,input().split())\n",
    "\n",
    "if 0 <= a <= 100 and 0 <= b <= 100 and 0 <= c <= 100 and 0 <= d <= 100:\n",
    "    avg = (a+b+c+d)/4\n",
    "    if avg >= 80:\n",
    "        print('합격')\n",
    "    else:\n",
    "        print('불합격')\n",
    "else:\n",
    "    print('잘못된 점수입니다.')\n"
   ]
  },
  {
   "cell_type": "code",
   "execution_count": 27,
   "id": "eabd9a71",
   "metadata": {},
   "outputs": [
    {
     "name": "stdout",
     "output_type": "stream",
     "text": [
      "20입니다.\n"
     ]
    }
   ],
   "source": [
    "x = 20\n",
    "\n",
    "if x == 10:\n",
    "    print('10입니다.')\n",
    "elif x == 20:\n",
    "    print('20입니다.')\n",
    "else:\n",
    "    print('10도아니고 20도 아닙니다.')"
   ]
  },
  {
   "cell_type": "code",
   "execution_count": 28,
   "id": "1d8e6365",
   "metadata": {},
   "outputs": [
    {
     "name": "stdout",
     "output_type": "stream",
     "text": [
      "10입니다.\n"
     ]
    }
   ],
   "source": [
    "x = 10\n",
    "\n",
    "if x == 10:\n",
    "    print('10입니다.')\n",
    "elif x == 20:\n",
    "    print('20입니다.')\n",
    "else:\n",
    "    print('10도아니고 20도 아닙니다.')"
   ]
  },
  {
   "cell_type": "code",
   "execution_count": 29,
   "id": "069c7cc5",
   "metadata": {},
   "outputs": [
    {
     "name": "stdout",
     "output_type": "stream",
     "text": [
      "10도아니고 20도 아닙니다.\n"
     ]
    }
   ],
   "source": [
    "x = 2\n",
    "\n",
    "if x == 10:\n",
    "    print('10입니다.')\n",
    "elif x == 20:\n",
    "    print('20입니다.')\n",
    "else:\n",
    "    print('10도아니고 20도 아닙니다.')"
   ]
  },
  {
   "cell_type": "code",
   "execution_count": 31,
   "id": "42bb9877",
   "metadata": {},
   "outputs": [
    {
     "name": "stdout",
     "output_type": "stream",
     "text": [
      "번호를 입력하세요.1\n",
      "콜라\n"
     ]
    }
   ],
   "source": [
    "button = int(input('번호를 입력하세요.'))\n",
    "\n",
    "if button == 1:\n",
    "    print('콜라')\n",
    "elif button == 2:\n",
    "    print('사이다')\n",
    "elif botton == 3:\n",
    "    print('환타')\n",
    "else:\n",
    "    print('제공하지 않는 메뉴')"
   ]
  },
  {
   "cell_type": "code",
   "execution_count": 40,
   "id": "9723d057",
   "metadata": {},
   "outputs": [
    {
     "name": "stdout",
     "output_type": "stream",
     "text": [
      "당신의 태어난 연도를 입력하세요.\n",
      "1985\n",
      "학생이 아닙니다.\n"
     ]
    }
   ],
   "source": [
    "print('당신의 태어난 연도를 입력하세요.')\n",
    "birth_year = int(input())\n",
    "age = 2022-birth_year+1\n",
    "\n",
    "if age <=26 and age >= 20:\n",
    "    print('대학생')\n",
    "elif age < 20 and age>=17:\n",
    "    print('고등학생')\n",
    "elif age < 17 and age>=14:\n",
    "    print('중학생')\n",
    "elif age < 14 and age>8:\n",
    "    print('초등학생')\n",
    "else:\n",
    "    print('학생이 아닙니다.')"
   ]
  },
  {
   "cell_type": "code",
   "execution_count": 44,
   "id": "39ba8ee5",
   "metadata": {},
   "outputs": [
    {
     "name": "stdout",
     "output_type": "stream",
     "text": [
      "성별을 입력하세요(M:남자/F:여자) :m\n",
      "나이를 입력하세요 :38\n",
      "30대 남자\n"
     ]
    }
   ],
   "source": [
    "gender = input('성별을 입력하세요(M:남자/F:여자) :')\n",
    "age = int(input('나이를 입력하세요 :'))\n",
    "\n",
    "if gender == \"M\" or gender ==\"m\":\n",
    "    if age >= 40:\n",
    "        print('40대이상 남자')\n",
    "    elif age >= 30:\n",
    "        print('30대 남자')\n",
    "    elif age >= 20:\n",
    "        print('20대 남자')\n",
    "    else:\n",
    "        print('10대 이하 남자')\n",
    "else:\n",
    "    if age >=40:\n",
    "        print('40대이상 여자')\n",
    "    elif age >=30:\n",
    "        print('30대 여자')\n",
    "    elif age >=20:\n",
    "        print('20대 여자')\n",
    "    else:\n",
    "        print('10대이하 여자')"
   ]
  },
  {
   "cell_type": "code",
   "execution_count": 62,
   "id": "51865c1c",
   "metadata": {},
   "outputs": [
    {
     "name": "stdout",
     "output_type": "stream",
     "text": [
      "탑승자의 나이를 입력하세요 : 68\n",
      "금액을 받지 않습니다.\n",
      "남은 잔액은 10000원 입니다.\n"
     ]
    }
   ],
   "source": [
    "age = int(input('탑승자의 나이를 입력하세요 : '))\n",
    "card = 10000\n",
    "\n",
    "if age >=7 and age <=12:\n",
    "    card -= 650\n",
    "elif age >=13 and age <=18:\n",
    "    card -= 1050\n",
    "elif age >19 and age <=64:\n",
    "    card -= 1250\n",
    "else:\n",
    "    card -= 0\n",
    "    print('금액을 받지 않습니다.')\n",
    "print('남은 잔액은 %d원 입니다.'%card)"
   ]
  },
  {
   "cell_type": "code",
   "execution_count": 67,
   "id": "20ace07f",
   "metadata": {},
   "outputs": [],
   "source": [
    "# korea = \n",
    "# english =\n",
    "# socity =\n",
    "\n",
    "#국어, 영어, 사회 3과목점수를 입력 : 50 80 80\n",
    "\n",
    "#총점 : 210, 평균 : 70, 등급 : C\n",
    "#국어 점수 : 50\n",
    "#수학 점수 : 80\n",
    "#사회 점수 : 80\n",
    "#등급 : C\n",
    "#등급 90점 이상 A, 80점이상이면 B, 70점 이상이면 C 그외는 F"
   ]
  },
  {
   "cell_type": "code",
   "execution_count": 78,
   "id": "0c64ee1b",
   "metadata": {},
   "outputs": [
    {
     "name": "stdout",
     "output_type": "stream",
     "text": [
      "점수를 입력하세요 : 50 80 80\n",
      "총점 : 210 평균 :  70.0 등급 : C\n",
      "국어 점수 : 50\n",
      "수학 점수 : 80\n",
      "사회 점수 : 80\n",
      "등급 : C\n"
     ]
    }
   ],
   "source": [
    "korea, english, soceity = map(int,input('점수를 입력하세요 : ').split())\n",
    "\n",
    "sum = korea + english + society\n",
    "avg = sum / 3\n",
    "\n",
    "if avg >= 90:\n",
    "    garde = 'A'\n",
    "elif avg >= 80:\n",
    "    garde = 'B'\n",
    "elif avg >= 70:\n",
    "    garde = 'C'\n",
    "else:\n",
    "    grade = 'F'\n",
    "print('총점 : %d 평균 : %5.1f 등급 : %s'%(sum,avg,garde))\n",
    "print('국어 점수 : %d'%korea)\n",
    "print('수학 점수 : %d'%english)\n",
    "print('사회 점수 : %d'%society)\n",
    "print('등급 : %s'%garde)\n"
   ]
  },
  {
   "cell_type": "code",
   "execution_count": 79,
   "id": "14b45084",
   "metadata": {},
   "outputs": [
    {
     "name": "stdout",
     "output_type": "stream",
     "text": [
      "불합격\n"
     ]
    }
   ],
   "source": [
    "score = 55\n",
    "result = ''\n",
    "if score >= 60:\n",
    "    result = '합격'\n",
    "else :\n",
    "    result = '불합격'\n",
    "print(result)"
   ]
  },
  {
   "cell_type": "code",
   "execution_count": 80,
   "id": "01ae8077",
   "metadata": {},
   "outputs": [
    {
     "name": "stdout",
     "output_type": "stream",
     "text": [
      "불합격\n"
     ]
    }
   ],
   "source": [
    "score = 50\n",
    "result = ''\n",
    "result = '합격' if score >= 60 else '불합격'\n",
    "print(result)"
   ]
  },
  {
   "cell_type": "code",
   "execution_count": 81,
   "id": "7e966892",
   "metadata": {},
   "outputs": [
    {
     "name": "stdout",
     "output_type": "stream",
     "text": [
      "hi 0\n",
      "hi 1\n",
      "hi 2\n",
      "hi 3\n",
      "hi 4\n",
      "hi 5\n",
      "hi 6\n",
      "hi 7\n",
      "hi 8\n",
      "hi 9\n",
      "hi 10\n",
      "hi 11\n",
      "hi 12\n",
      "hi 13\n",
      "hi 14\n",
      "hi 15\n",
      "hi 16\n",
      "hi 17\n",
      "hi 18\n",
      "hi 19\n",
      "hi 20\n",
      "hi 21\n",
      "hi 22\n",
      "hi 23\n",
      "hi 24\n",
      "hi 25\n",
      "hi 26\n",
      "hi 27\n",
      "hi 28\n",
      "hi 29\n",
      "hi 30\n",
      "hi 31\n",
      "hi 32\n",
      "hi 33\n",
      "hi 34\n",
      "hi 35\n",
      "hi 36\n",
      "hi 37\n",
      "hi 38\n",
      "hi 39\n",
      "hi 40\n",
      "hi 41\n",
      "hi 42\n",
      "hi 43\n",
      "hi 44\n",
      "hi 45\n",
      "hi 46\n",
      "hi 47\n",
      "hi 48\n",
      "hi 49\n",
      "hi 50\n",
      "hi 51\n",
      "hi 52\n",
      "hi 53\n",
      "hi 54\n",
      "hi 55\n",
      "hi 56\n",
      "hi 57\n",
      "hi 58\n",
      "hi 59\n",
      "hi 60\n",
      "hi 61\n",
      "hi 62\n",
      "hi 63\n",
      "hi 64\n",
      "hi 65\n",
      "hi 66\n",
      "hi 67\n",
      "hi 68\n",
      "hi 69\n",
      "hi 70\n",
      "hi 71\n",
      "hi 72\n",
      "hi 73\n",
      "hi 74\n",
      "hi 75\n",
      "hi 76\n",
      "hi 77\n",
      "hi 78\n",
      "hi 79\n",
      "hi 80\n",
      "hi 81\n",
      "hi 82\n",
      "hi 83\n",
      "hi 84\n",
      "hi 85\n",
      "hi 86\n",
      "hi 87\n",
      "hi 88\n",
      "hi 89\n",
      "hi 90\n",
      "hi 91\n",
      "hi 92\n",
      "hi 93\n",
      "hi 94\n",
      "hi 95\n",
      "hi 96\n",
      "hi 97\n",
      "hi 98\n",
      "hi 99\n"
     ]
    }
   ],
   "source": [
    "for i in range(100):\n",
    "    print('hi',i)"
   ]
  },
  {
   "cell_type": "code",
   "execution_count": 89,
   "id": "f04a4f58",
   "metadata": {},
   "outputs": [
    {
     "name": "stdout",
     "output_type": "stream",
     "text": [
      "for문을 공부중입니다. 0\n",
      "for문을 공부중입니다. 1\n",
      "for문을 공부중입니다. 2\n",
      "for문을 공부중입니다. 3\n",
      "for문을 공부중입니다. 4\n",
      "for문을 공부중입니다. 5\n",
      "for문을 공부중입니다. 6\n",
      "for문을 공부중입니다. 7\n",
      "for문을 공부중입니다. 8\n",
      "for문을 공부중입니다. 9\n"
     ]
    }
   ],
   "source": [
    "for i in range(0,10,1):\n",
    "    print('for문을 공부중입니다.',i)"
   ]
  },
  {
   "cell_type": "code",
   "execution_count": 91,
   "id": "75df200a",
   "metadata": {},
   "outputs": [
    {
     "name": "stdout",
     "output_type": "stream",
     "text": [
      "1부터 10까지의 합 :2500\n"
     ]
    }
   ],
   "source": [
    "sum = 0\n",
    "for i in range(1,101,2):\n",
    "    sum += i\n",
    "print('1부터 101까지의 합 :%d'%sum)"
   ]
  },
  {
   "cell_type": "code",
   "execution_count": 95,
   "id": "2ba9b5ff",
   "metadata": {},
   "outputs": [
    {
     "name": "stdout",
     "output_type": "stream",
     "text": [
      "몇단을 출력할건지 입력하세요 :3\n",
      "3 * 1 = 3\n",
      "3 * 1 = 3\n",
      "3 * 2 = 6\n",
      "3 * 2 = 6\n",
      "3 * 3 = 9\n",
      "3 * 3 = 9\n",
      "3 * 4 = 12\n",
      "3 * 4 = 12\n",
      "3 * 5 = 15\n",
      "3 * 5 = 15\n",
      "3 * 6 = 18\n",
      "3 * 6 = 18\n",
      "3 * 7 = 21\n",
      "3 * 7 = 21\n",
      "3 * 8 = 24\n",
      "3 * 8 = 24\n",
      "3 * 9 = 27\n",
      "3 * 9 = 27\n"
     ]
    }
   ],
   "source": [
    "n=int(input('몇단을 출력할건지 입력하세요 :'))\n",
    "\n",
    "for i in range(1,10):\n",
    "    print(n,'*',i,'=',n*i)\n",
    "    print('%d * %d = %d'%(n,i,n*i))"
   ]
  },
  {
   "cell_type": "code",
   "execution_count": 102,
   "id": "54627fd5",
   "metadata": {},
   "outputs": [
    {
     "name": "stdout",
     "output_type": "stream",
     "text": [
      "3의배수의 합 : 18\n"
     ]
    }
   ],
   "source": [
    "# 1부터 10까지의 숫자중 3의 배수의 합계를 구하시오.\n",
    "sum = 0\n",
    "for i in range(0,11,3):\n",
    "    sum += i\n",
    "print('3의배수의 합 : %d'%sum)\n",
    "#내가 한것"
   ]
  },
  {
   "cell_type": "code",
   "execution_count": 104,
   "id": "c78d125c",
   "metadata": {},
   "outputs": [
    {
     "name": "stdout",
     "output_type": "stream",
     "text": [
      "3의 배수값은 : 18\n"
     ]
    }
   ],
   "source": [
    "# 1부터 10까지의 숫자중 3의 배수의 합계를 구하시오.\n",
    "sum = 0\n",
    "\n",
    "for num in range(11):\n",
    "    if num % 3 == 0:\n",
    "        sum += num\n",
    "print('3의 배수값은 : %d'%sum)\n",
    "#강사님 답안"
   ]
  },
  {
   "cell_type": "code",
   "execution_count": 105,
   "id": "1d5f92cb",
   "metadata": {},
   "outputs": [
    {
     "name": "stdout",
     "output_type": "stream",
     "text": [
      "파이썬 중첩(i값 : 0, k값 : 0)\n",
      "파이썬 중첩(i값 : 0, k값 : 1)\n",
      "파이썬 중첩(i값 : 1, k값 : 0)\n",
      "파이썬 중첩(i값 : 1, k값 : 1)\n",
      "파이썬 중첩(i값 : 2, k값 : 0)\n",
      "파이썬 중첩(i값 : 2, k값 : 1)\n"
     ]
    }
   ],
   "source": [
    "for i in range(0,3,1):\n",
    "    for k in range(0,2,1):\n",
    "        print('파이썬 중첩(i값 : %d, k값 : %d)'%(i,k))"
   ]
  },
  {
   "cell_type": "code",
   "execution_count": 107,
   "id": "2dc5a266",
   "metadata": {},
   "outputs": [
    {
     "name": "stdout",
     "output_type": "stream",
     "text": [
      "*\n",
      "*\n",
      "*\n",
      "*\n",
      "*\n",
      "*\n",
      "*\n",
      "*\n",
      "*\n",
      "*\n",
      "*\n",
      "*\n",
      "*\n",
      "*\n",
      "*\n",
      "*\n",
      "*\n",
      "*\n",
      "*\n",
      "*\n",
      "*\n",
      "*\n",
      "*\n",
      "*\n",
      "*\n"
     ]
    }
   ],
   "source": [
    "for i in range(5):\n",
    "    for j in range(5):\n",
    "        print('*')  "
   ]
  },
  {
   "cell_type": "code",
   "execution_count": 108,
   "id": "86bf2161",
   "metadata": {},
   "outputs": [
    {
     "name": "stdout",
     "output_type": "stream",
     "text": [
      "*\n",
      "*\n",
      "*\n",
      "*\n",
      "*\n",
      "\n",
      "*\n",
      "*\n",
      "*\n",
      "*\n",
      "*\n",
      "\n",
      "*\n",
      "*\n",
      "*\n",
      "*\n",
      "*\n",
      "\n",
      "*\n",
      "*\n",
      "*\n",
      "*\n",
      "*\n",
      "\n",
      "*\n",
      "*\n",
      "*\n",
      "*\n",
      "*\n",
      "\n"
     ]
    }
   ],
   "source": [
    "for i in range(5):\n",
    "    for j in range(5):\n",
    "        print('*')  \n",
    "    print()"
   ]
  },
  {
   "cell_type": "code",
   "execution_count": 109,
   "id": "affcd17b",
   "metadata": {},
   "outputs": [
    {
     "name": "stdout",
     "output_type": "stream",
     "text": [
      "*****\n",
      "*****\n",
      "*****\n",
      "*****\n",
      "*****\n"
     ]
    }
   ],
   "source": [
    "for i in range(5):\n",
    "    for j in range(5):\n",
    "        print('*',end='')  \n",
    "    print()"
   ]
  },
  {
   "cell_type": "code",
   "execution_count": 110,
   "id": "7a7100a3",
   "metadata": {},
   "outputs": [
    {
     "name": "stdout",
     "output_type": "stream",
     "text": [
      "*\n",
      "**\n",
      "***\n",
      "****\n",
      "*****\n"
     ]
    }
   ],
   "source": [
    "for i in range(5):\n",
    "    for j in range(5):\n",
    "        if j <= i:\n",
    "            print('*',end='')\n",
    "    print()"
   ]
  },
  {
   "cell_type": "code",
   "execution_count": 113,
   "id": "d1e48265",
   "metadata": {},
   "outputs": [
    {
     "name": "stdout",
     "output_type": "stream",
     "text": [
      "*    \n",
      " *   \n",
      "  *  \n",
      "   * \n",
      "    *\n"
     ]
    }
   ],
   "source": [
    "for i in range(5):\n",
    "    for j in range(5):\n",
    "        if j == i:\n",
    "            print('*',end='')\n",
    "        else:\n",
    "            print(' ',end='')\n",
    "    print()"
   ]
  },
  {
   "cell_type": "code",
   "execution_count": 114,
   "id": "c091e8bf",
   "metadata": {},
   "outputs": [
    {
     "name": "stdout",
     "output_type": "stream",
     "text": [
      "*****-*****-*****-*****-*****-"
     ]
    }
   ],
   "source": [
    "for i in range(5):\n",
    "    for j in range(5):\n",
    "        print('*',end='')  \n",
    "    print(end='-')"
   ]
  },
  {
   "cell_type": "code",
   "execution_count": null,
   "id": "a34a3df2",
   "metadata": {},
   "outputs": [],
   "source": []
  }
 ],
 "metadata": {
  "kernelspec": {
   "display_name": "Python 3 (ipykernel)",
   "language": "python",
   "name": "python3"
  },
  "language_info": {
   "codemirror_mode": {
    "name": "ipython",
    "version": 3
   },
   "file_extension": ".py",
   "mimetype": "text/x-python",
   "name": "python",
   "nbconvert_exporter": "python",
   "pygments_lexer": "ipython3",
   "version": "3.10.4"
  }
 },
 "nbformat": 4,
 "nbformat_minor": 5
}
