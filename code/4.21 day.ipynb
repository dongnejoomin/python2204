{
 "cells": [
  {
   "cell_type": "code",
   "execution_count": 1,
   "id": "ab3aad92",
   "metadata": {},
   "outputs": [
    {
     "name": "stdout",
     "output_type": "stream",
     "text": [
      "8 11 14 17 20\n"
     ]
    }
   ],
   "source": [
    "def calc():\n",
    "    a = 3\n",
    "    b = 5                 # 지역변수 a,b를 만들고 3,5을 저장\n",
    "    def mul_add(x):\n",
    "        return a * x + b  # 함수 바깥쪽에 있는 지역 변수 a,b를 사용하여 계산\n",
    "    return mul_add        # mul_add함수를 반환(이름만작성한다.()없음)\n",
    "c = calc()                # calc를 호출한뒤 반환값을 c에 저장한다. calc에서 mul_add를 반환했으므로 c에는 함수 mul_add가 들어간다. \n",
    "print(c(1), c(2), c(3), c(4), c(5))"
   ]
  },
  {
   "cell_type": "code",
   "execution_count": 4,
   "id": "1d376af7",
   "metadata": {},
   "outputs": [
    {
     "name": "stdout",
     "output_type": "stream",
     "text": [
      "8\n",
      "19\n",
      "33\n"
     ]
    }
   ],
   "source": [
    "def calc():\n",
    "    a = 3\n",
    "    b = 5\n",
    "    total = 0\n",
    "    def mul_add(x):\n",
    "        nonlocal total\n",
    "        total = total + a * x + b\n",
    "        print(total)\n",
    "    return mul_add\n",
    "\n",
    "c = calc()\n",
    "c(1)\n",
    "c(2)\n",
    "c(3)"
   ]
  },
  {
   "cell_type": "code",
   "execution_count": 13,
   "id": "57a44567",
   "metadata": {},
   "outputs": [],
   "source": [
    "class Person:\n",
    "    def greeting(self):\n",
    "        print('hello')\n",
    "    \n",
    "james=Person() #인스턴스 = 클래스()\n",
    "maria=Person()"
   ]
  },
  {
   "cell_type": "code",
   "execution_count": 14,
   "id": "cc672618",
   "metadata": {},
   "outputs": [
    {
     "name": "stdout",
     "output_type": "stream",
     "text": [
      "hello\n"
     ]
    }
   ],
   "source": [
    "james.greeting() #메서드 호출"
   ]
  },
  {
   "cell_type": "code",
   "execution_count": 15,
   "id": "712dc1e9",
   "metadata": {},
   "outputs": [
    {
     "name": "stdout",
     "output_type": "stream",
     "text": [
      "hello\n"
     ]
    }
   ],
   "source": [
    "maria.greeting() "
   ]
  },
  {
   "cell_type": "code",
   "execution_count": 16,
   "id": "3b8e82ce",
   "metadata": {},
   "outputs": [],
   "source": [
    "# int, list, dict 등도 클래스이다.\n",
    "a=int(10)\n",
    "b=list(range(10))\n",
    "c = dict(x=10, y=20)"
   ]
  },
  {
   "cell_type": "code",
   "execution_count": 17,
   "id": "7d815c01",
   "metadata": {},
   "outputs": [],
   "source": [
    "class Person:\n",
    "    pass"
   ]
  },
  {
   "cell_type": "code",
   "execution_count": 19,
   "id": "8bf50f48",
   "metadata": {},
   "outputs": [],
   "source": [
    "class Person:\n",
    "    def greeting(self):\n",
    "        print('hello')\n",
    "        \n",
    "    def hello(self):\n",
    "        self.greeting() #self.메서드() 형식으로 클래스 안의 메서드를 호출"
   ]
  },
  {
   "cell_type": "code",
   "execution_count": 20,
   "id": "9e05d491",
   "metadata": {},
   "outputs": [
    {
     "name": "stdout",
     "output_type": "stream",
     "text": [
      "hello\n"
     ]
    }
   ],
   "source": [
    "james.hello()"
   ]
  },
  {
   "cell_type": "code",
   "execution_count": 26,
   "id": "ab0ce67c",
   "metadata": {},
   "outputs": [
    {
     "name": "stdout",
     "output_type": "stream",
     "text": [
      "안녕하세요.\n"
     ]
    }
   ],
   "source": [
    "class Person:\n",
    "    def __init__(self): # self에 Person()이 들어간다.     # 파이썬이 자동호출하는 스페셜메서드, 매직 메서드\n",
    "        self.hello = \"안녕하세요.\"\n",
    "        \n",
    "    def greeting(self):  # self에 james.greeting()이 들어간다.\n",
    "        print(self.hello)\n",
    "        \n",
    "james = Person()\n",
    "james.greeting()"
   ]
  },
  {
   "cell_type": "code",
   "execution_count": 32,
   "id": "7dbcf7fd",
   "metadata": {},
   "outputs": [
    {
     "name": "stdout",
     "output_type": "stream",
     "text": [
      "안녕하세요. 저는 마리아입니다.\n",
      "안녕하세요. 저는 제임스입니다.\n",
      "이름 : 마리아\n",
      "나이 : 20\n",
      "주소 : 충북 청주시 상당구\n"
     ]
    }
   ],
   "source": [
    "class Person:\n",
    "    def __init__(self, name, age, address): # Person 클래스에(hello, name, age, address) 속성이 존재\n",
    "        self.hello = '안녕하세요.'\n",
    "        self.name = name\n",
    "        self.age = age\n",
    "        self.address = address\n",
    "        \n",
    "    def greeting(self):\n",
    "        print('{0} 저는 {1}입니다.'.format(self.hello, self.name))\n",
    "\n",
    "maria = Person('마리아', '20', '충북 청주시 상당구')\n",
    "maria.greeting()\n",
    "\n",
    "james = Person('제임스', '20', '충북 청주시 상당구')\n",
    "james.greeting()\n",
    "\n",
    "print('이름 :',maria.name)\n",
    "print('나이 :',maria.age)\n",
    "print('주소 :',maria.address)"
   ]
  },
  {
   "cell_type": "code",
   "execution_count": 34,
   "id": "c4af89ee",
   "metadata": {},
   "outputs": [
    {
     "name": "stdout",
     "output_type": "stream",
     "text": [
      "이름 : 제임스\n",
      "나이 : 20\n",
      "주소 : 충북 청주시 상당구\n"
     ]
    }
   ],
   "source": [
    "print('이름 :',james.name)\n",
    "print('나이 :',james.age)\n",
    "print('주소 :',james.address)"
   ]
  },
  {
   "cell_type": "code",
   "execution_count": 36,
   "id": "ab374bca",
   "metadata": {},
   "outputs": [
    {
     "data": {
      "text/plain": [
       "'제임스'"
      ]
     },
     "execution_count": 36,
     "metadata": {},
     "output_type": "execute_result"
    }
   ],
   "source": [
    "james.name"
   ]
  },
  {
   "cell_type": "code",
   "execution_count": 37,
   "id": "d43dbae7",
   "metadata": {},
   "outputs": [
    {
     "data": {
      "text/plain": [
       "'20'"
      ]
     },
     "execution_count": 37,
     "metadata": {},
     "output_type": "execute_result"
    }
   ],
   "source": [
    "james.age"
   ]
  },
  {
   "cell_type": "code",
   "execution_count": 38,
   "id": "12d0b88a",
   "metadata": {},
   "outputs": [
    {
     "data": {
      "text/plain": [
       "'충북 청주시 상당구'"
      ]
     },
     "execution_count": 38,
     "metadata": {},
     "output_type": "execute_result"
    }
   ],
   "source": [
    "james.address"
   ]
  },
  {
   "cell_type": "code",
   "execution_count": 51,
   "id": "23b23688",
   "metadata": {},
   "outputs": [
    {
     "name": "stdout",
     "output_type": "stream",
     "text": [
      "이제 7000원 남았네요.\n"
     ]
    }
   ],
   "source": [
    "class Person:\n",
    "    def __init__(self, name, age, address, wallet):\n",
    "        self.name = name\n",
    "        self.age = age\n",
    "        self.address = address\n",
    "        self.__wallet = wallet\n",
    "        \n",
    "    def pay(self, amount):\n",
    "        self.__wallet -= amount\n",
    "        print('이제 {0}원 남았네요.'.format(self.__wallet))\n",
    "        \n",
    "maria = Person('마리아', 30, '충북 청주시 상당구', 10000)\n",
    "maria.pay(3000)"
   ]
  },
  {
   "cell_type": "code",
   "execution_count": 42,
   "id": "54169187",
   "metadata": {},
   "outputs": [
    {
     "data": {
      "text/plain": [
       "'마리아'"
      ]
     },
     "execution_count": 42,
     "metadata": {},
     "output_type": "execute_result"
    }
   ],
   "source": [
    "maria.name"
   ]
  },
  {
   "cell_type": "code",
   "execution_count": 52,
   "id": "e1ed1d41",
   "metadata": {},
   "outputs": [
    {
     "data": {
      "text/plain": [
       "30"
      ]
     },
     "execution_count": 52,
     "metadata": {},
     "output_type": "execute_result"
    }
   ],
   "source": [
    "maria.age"
   ]
  },
  {
   "cell_type": "code",
   "execution_count": 44,
   "id": "daaf2f21",
   "metadata": {},
   "outputs": [
    {
     "data": {
      "text/plain": [
       "'충북 청주시 상당구'"
      ]
     },
     "execution_count": 44,
     "metadata": {},
     "output_type": "execute_result"
    }
   ],
   "source": [
    "maria.address"
   ]
  },
  {
   "cell_type": "code",
   "execution_count": 55,
   "id": "f79589f5",
   "metadata": {},
   "outputs": [
    {
     "ename": "AttributeError",
     "evalue": "'Person' object has no attribute '__wallet'",
     "output_type": "error",
     "traceback": [
      "\u001b[1;31m---------------------------------------------------------------------------\u001b[0m",
      "\u001b[1;31mAttributeError\u001b[0m                            Traceback (most recent call last)",
      "Input \u001b[1;32mIn [55]\u001b[0m, in \u001b[0;36m<cell line: 1>\u001b[1;34m()\u001b[0m\n\u001b[1;32m----> 1\u001b[0m \u001b[43mmaria\u001b[49m\u001b[38;5;241;43m.\u001b[39;49m\u001b[43m__wallet\u001b[49m\n",
      "\u001b[1;31mAttributeError\u001b[0m: 'Person' object has no attribute '__wallet'"
     ]
    }
   ],
   "source": [
    "maria.__wallet"
   ]
  },
  {
   "cell_type": "code",
   "execution_count": 58,
   "id": "8153c5a0",
   "metadata": {},
   "outputs": [
    {
     "name": "stdout",
     "output_type": "stream",
     "text": [
      "['책', '열쇠']\n",
      "['책', '열쇠']\n"
     ]
    }
   ],
   "source": [
    "class Person:\n",
    "    bag = []\n",
    "    \n",
    "    def put_bag(self, stuff):\n",
    "        self.bag.append(stuff)\n",
    "        \n",
    "james = Person()\n",
    "james.put_bag('책')\n",
    "\n",
    "maria = Person()\n",
    "maria.put_bag('열쇠')\n",
    "\n",
    "print(james.bag)\n",
    "print(maria.bag)"
   ]
  },
  {
   "cell_type": "code",
   "execution_count": 59,
   "id": "643549e0",
   "metadata": {},
   "outputs": [
    {
     "name": "stdout",
     "output_type": "stream",
     "text": [
      "['책']\n",
      "['열쇠']\n"
     ]
    }
   ],
   "source": [
    "class Person:\n",
    "    def __init__(self):\n",
    "        self.bag = []\n",
    "        \n",
    "    def put_bag(self, stuff):\n",
    "        self.bag.append(stuff)\n",
    "        \n",
    "james = Person()\n",
    "james.put_bag('책')\n",
    "\n",
    "maria = Person()\n",
    "maria.put_bag('열쇠')\n",
    "\n",
    "print(james.bag)\n",
    "print(maria.bag)"
   ]
  },
  {
   "cell_type": "code",
   "execution_count": 61,
   "id": "557e3f82",
   "metadata": {},
   "outputs": [
    {
     "name": "stdout",
     "output_type": "stream",
     "text": [
      "안녕하세요.\n",
      "공부하기\n"
     ]
    }
   ],
   "source": [
    "class Person:\n",
    "    def greeting(self):\n",
    "        print('안녕하세요.')\n",
    "        \n",
    "class Student(Person):\n",
    "    def study(self):\n",
    "        print('공부하기')\n",
    "        \n",
    "james = Student()\n",
    "james.greeting()\n",
    "james.study()"
   ]
  },
  {
   "cell_type": "code",
   "execution_count": 65,
   "id": "6b279468",
   "metadata": {},
   "outputs": [
    {
     "name": "stdout",
     "output_type": "stream",
     "text": [
      "저는 한국IT학원 학생입니다.\n"
     ]
    }
   ],
   "source": [
    "class Person:\n",
    "    def greeting(self):\n",
    "        print('안녕하세요')\n",
    "        \n",
    "class Student(Person):\n",
    "    def greeting(self):\n",
    "        print('저는 한국IT학원 학생입니다.')\n",
    "        \n",
    "james = Student()\n",
    "james.greeting()"
   ]
  },
  {
   "cell_type": "code",
   "execution_count": 66,
   "id": "1bf92e51",
   "metadata": {},
   "outputs": [
    {
     "name": "stdout",
     "output_type": "stream",
     "text": [
      "안녕하세요\n",
      "저는 한국IT학원 학생입니다.\n"
     ]
    }
   ],
   "source": [
    "class Person:\n",
    "    def greeting(self):\n",
    "        print('안녕하세요')\n",
    "        \n",
    "class Student(Person):\n",
    "    def greeting(self):\n",
    "        super().greeting()\n",
    "        print('저는 한국IT학원 학생입니다.')\n",
    "        \n",
    "james = Student()\n",
    "james.greeting()"
   ]
  },
  {
   "cell_type": "code",
   "execution_count": 67,
   "id": "b7a58d57",
   "metadata": {},
   "outputs": [
    {
     "name": "stdout",
     "output_type": "stream",
     "text": [
      "안녕하세요.\n",
      "학점 관리\n",
      "공부하기\n"
     ]
    }
   ],
   "source": [
    "class Person:\n",
    "    def greeting(self):\n",
    "        print('안녕하세요.')\n",
    "        \n",
    "class University:\n",
    "    def manage_credit(self):\n",
    "        print('학점 관리')\n",
    "        \n",
    "class Undergraduate(Person, University):\n",
    "    def study(self):\n",
    "        print('공부하기')\n",
    "        \n",
    "james = Undergraduate()\n",
    "james.greeting()\n",
    "james.manage_credit()\n",
    "james.study()"
   ]
  },
  {
   "cell_type": "code",
   "execution_count": null,
   "id": "fb4ae9d1",
   "metadata": {},
   "outputs": [],
   "source": []
  },
  {
   "cell_type": "code",
   "execution_count": null,
   "id": "90c410d8",
   "metadata": {},
   "outputs": [],
   "source": []
  },
  {
   "cell_type": "code",
   "execution_count": null,
   "id": "235f50c6",
   "metadata": {},
   "outputs": [],
   "source": []
  }
 ],
 "metadata": {
  "kernelspec": {
   "display_name": "Python 3 (ipykernel)",
   "language": "python",
   "name": "python3"
  },
  "language_info": {
   "codemirror_mode": {
    "name": "ipython",
    "version": 3
   },
   "file_extension": ".py",
   "mimetype": "text/x-python",
   "name": "python",
   "nbconvert_exporter": "python",
   "pygments_lexer": "ipython3",
   "version": "3.10.4"
  }
 },
 "nbformat": 4,
 "nbformat_minor": 5
}
